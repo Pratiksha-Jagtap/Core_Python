{
  "nbformat": 4,
  "nbformat_minor": 0,
  "metadata": {
    "colab": {
      "provenance": []
    },
    "kernelspec": {
      "name": "python3",
      "display_name": "Python 3"
    },
    "language_info": {
      "name": "python"
    }
  },
  "cells": [
    {
      "cell_type": "markdown",
      "source": [
        "### **1. Write a Python script to sort (ascending and descending) a dictionary by value.**"
      ],
      "metadata": {
        "id": "IANygE6QnK5o"
      }
    },
    {
      "cell_type": "code",
      "execution_count": 1,
      "metadata": {
        "colab": {
          "base_uri": "https://localhost:8080/"
        },
        "id": "G25hRVefmE3R",
        "outputId": "58607980-086b-43b9-e41f-8ae50fa79961"
      },
      "outputs": [
        {
          "output_type": "stream",
          "name": "stdout",
          "text": [
            "{'e': 20, 'c': 30, 'd': 40, 'b': 50, 'a': 100}\n",
            "{'a': 100, 'b': 50, 'd': 40, 'c': 30, 'e': 20}\n"
          ]
        }
      ],
      "source": [
        "# Ascending order\n",
        "my_dict = {'a': 100, 'b': 50, 'c': 30, 'd': 40, 'e': 20}\n",
        "sorted_dict = {k: v for k, v in sorted(my_dict.items(), key=lambda item: item[1])}\n",
        "print(sorted_dict)\n",
        "\n",
        "# Descending order\n",
        "sorted_dict = {k: v for k, v in sorted(my_dict.items(), key=lambda item: item[1], reverse=True)}\n",
        "print(sorted_dict)\n"
      ]
    },
    {
      "cell_type": "markdown",
      "source": [
        "### **2. Write a Python script to add a key to a dictionary. Go to the editor**\n",
        "    Sample Dictionary : {0: 10, 1: 20}\n",
        "    Expected Result : {0: 10, 1: 20, 2: 30}\n"
      ],
      "metadata": {
        "id": "bkQT3eozn_eo"
      }
    },
    {
      "cell_type": "code",
      "source": [
        "my_dict = {0: 10, 1: 20}\n",
        "my_dict[2] = 30\n",
        "print(my_dict)"
      ],
      "metadata": {
        "colab": {
          "base_uri": "https://localhost:8080/"
        },
        "id": "W7fe2TuPnkDf",
        "outputId": "662b818e-f6a3-40e5-b5be-70f0f5ca117c"
      },
      "execution_count": 2,
      "outputs": [
        {
          "output_type": "stream",
          "name": "stdout",
          "text": [
            "{0: 10, 1: 20, 2: 30}\n"
          ]
        }
      ]
    },
    {
      "cell_type": "markdown",
      "source": [
        "### **3.  Write a Python script to merge two Python dictionaries.**"
      ],
      "metadata": {
        "id": "__XjYoDTochY"
      }
    },
    {
      "cell_type": "code",
      "source": [
        "# create first dictionary\n",
        "dict_1 = {'a': 10,'b': 20,'c': 30}\n",
        "\n",
        "# create second dictionary\n",
        "dict_2 = {'d': 40,'e': 50,'f': 60}\n",
        "\n",
        "# merge two dictionaries\n",
        "dict_3 = dict_1.copy()\n",
        "dict_3.update(dict_2)\n",
        "\n",
        "print(dict_3)\n"
      ],
      "metadata": {
        "colab": {
          "base_uri": "https://localhost:8080/"
        },
        "id": "3OU63OQKoYHy",
        "outputId": "676748c2-81eb-49d3-9899-50f3d745901d"
      },
      "execution_count": 3,
      "outputs": [
        {
          "output_type": "stream",
          "name": "stdout",
          "text": [
            "{'a': 10, 'b': 20, 'c': 30, 'd': 40, 'e': 50, 'f': 60}\n"
          ]
        }
      ]
    },
    {
      "cell_type": "markdown",
      "source": [
        "### **4. Write a Python program to sum all the items in a dictionary.**"
      ],
      "metadata": {
        "id": "FK_f88I1o4zJ"
      }
    },
    {
      "cell_type": "code",
      "source": [
        "# create a dictionary\n",
        "dict_1 = {'a': 10,'b': 20,'c': 30}\n",
        "\n",
        "# sum all the items in a dictionary\n",
        "total_sum = sum(dict_1.values())\n",
        "\n",
        "print(total_sum)"
      ],
      "metadata": {
        "colab": {
          "base_uri": "https://localhost:8080/"
        },
        "id": "LIve-WaJoxu2",
        "outputId": "31929c7e-2482-432c-abad-a827bda5be3d"
      },
      "execution_count": 4,
      "outputs": [
        {
          "output_type": "stream",
          "name": "stdout",
          "text": [
            "60\n"
          ]
        }
      ]
    },
    {
      "cell_type": "markdown",
      "source": [
        "### **5. Write a Python program to combine two dictionary adding values for common keys.**\n",
        "    d1 = {'a': 100, 'b': 200, 'c':300}\n",
        "    d2 = {'a': 300, 'b': 200, 'd':400}\n",
        "    Sample output: Counter({'a': 400, 'b': 400, 'd': 400, 'c': 300})\n"
      ],
      "metadata": {
        "id": "8hhcWlgGpNvK"
      }
    },
    {
      "cell_type": "code",
      "source": [
        "d1 = {'a': 100, 'b': 200, 'c': 300}\n",
        "d2 = {'a': 300, 'b': 200, 'd': 400}\n",
        "\n",
        "# Create a new dictionary to store the combined values\n",
        "combined_dict = {}\n",
        "\n",
        "# Iterate over the keys in the first dictionary\n",
        "for key in d1:\n",
        "  # If the key is in the second dictionary, add the values\n",
        "  if key in d2:\n",
        "    combined_dict[key] = d1[key] + d2[key]\n",
        "  # Otherwise, just add the value from the first dictionary\n",
        "  else:\n",
        "    combined_dict[key] = d1[key]\n",
        "\n",
        "# Iterate over the keys in the second dictionary that are not in the first dictionary\n",
        "for key in d2:\n",
        "  if key not in d1:\n",
        "    combined_dict[key] = d2[key]\n",
        "\n",
        "print(combined_dict)\n"
      ],
      "metadata": {
        "colab": {
          "base_uri": "https://localhost:8080/"
        },
        "id": "gvRGGdZ9pDYV",
        "outputId": "03fed0e6-08e8-480b-b6ac-2a2eec081a9d"
      },
      "execution_count": 5,
      "outputs": [
        {
          "output_type": "stream",
          "name": "stdout",
          "text": [
            "{'a': 400, 'b': 400, 'c': 300, 'd': 400}\n"
          ]
        }
      ]
    },
    {
      "cell_type": "markdown",
      "source": [
        "### **6. Select the all correct way to remove the key ‘marks‘ from a dictionary**\n",
        "        student = {\n",
        "        \"name\": \"Emma\",\n",
        "        \"class\": 9,\n",
        "        \"marks\": 75\n",
        "        }\n",
        "        \n",
        "      a) student.pop(“marks”)\n",
        "      b) del student[“marks”]\n",
        "      c) student.popitem()\n",
        "      d) dict1.remove(“key2”)\n"
      ],
      "metadata": {
        "id": "cN_Ttr1qIkwh"
      }
    },
    {
      "cell_type": "code",
      "source": [
        "# Option a and b is correct\n",
        "\n",
        "# a) student.pop(\"marks\")\n",
        "student = {\"name\": \"Emma\", \"class\": 9, \"marks\": 75}\n",
        "student.pop(\"marks\")\n",
        "print(student)\n",
        "\n",
        "# b) del student[\"marks\"]\n",
        "student = {\"name\": \"Emma\", \"class\": 9, \"marks\": 75}\n",
        "del student[\"marks\"]\n",
        "print(student)\n"
      ],
      "metadata": {
        "colab": {
          "base_uri": "https://localhost:8080/"
        },
        "id": "WCxL7KypqD4D",
        "outputId": "6988d99a-fa3e-4916-b3b3-a1ae257f01e1"
      },
      "execution_count": 8,
      "outputs": [
        {
          "output_type": "stream",
          "name": "stdout",
          "text": [
            "{'name': 'Emma', 'class': 9}\n",
            "{'name': 'Emma', 'class': 9}\n"
          ]
        }
      ]
    },
    {
      "cell_type": "markdown",
      "source": [
        "### **7. Write a Python program to count number of items in a dictionary value that is a list.**"
      ],
      "metadata": {
        "id": "fNPzZ-AwJhNE"
      }
    },
    {
      "cell_type": "code",
      "source": [
        "my_dict = {'a': [1, 2, 3], 'b': [4, 5], 'c': [6, 7, 8]}\n",
        "\n",
        "count = 0\n",
        "for value in my_dict.values():\n",
        "    if isinstance(value, list):\n",
        "        count += len(value)\n",
        "\n",
        "print(count)\n"
      ],
      "metadata": {
        "colab": {
          "base_uri": "https://localhost:8080/"
        },
        "id": "Sa2LYrBaJAHo",
        "outputId": "b027dde8-f1e1-4217-9d6d-9fbbfbb5dbfd"
      },
      "execution_count": 9,
      "outputs": [
        {
          "output_type": "stream",
          "name": "stdout",
          "text": [
            "8\n"
          ]
        }
      ]
    },
    {
      "cell_type": "code",
      "source": [],
      "metadata": {
        "id": "Dg1MZZ5VJvKT"
      },
      "execution_count": null,
      "outputs": []
    }
  ]
}