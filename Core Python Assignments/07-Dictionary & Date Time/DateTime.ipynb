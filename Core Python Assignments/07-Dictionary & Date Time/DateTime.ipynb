{
  "nbformat": 4,
  "nbformat_minor": 0,
  "metadata": {
    "colab": {
      "provenance": []
    },
    "kernelspec": {
      "name": "python3",
      "display_name": "Python 3"
    },
    "language_info": {
      "name": "python"
    }
  },
  "cells": [
    {
      "cell_type": "markdown",
      "source": [
        "### **1. Write a Python program to get the current time in Python.**\n",
        "    Sample Format :  13:19:49.078205\n"
      ],
      "metadata": {
        "id": "JLpdJe0bc94l"
      }
    },
    {
      "cell_type": "code",
      "execution_count": 2,
      "metadata": {
        "colab": {
          "base_uri": "https://localhost:8080/"
        },
        "id": "GXTTHNnvayq3",
        "outputId": "a40a57db-c46c-49ab-e452-537886c06df3"
      },
      "outputs": [
        {
          "output_type": "stream",
          "name": "stdout",
          "text": [
            "Current Time: 11:39:24.681331\n"
          ]
        }
      ],
      "source": [
        "import datetime\n",
        "\n",
        "current_time = datetime.datetime.now().time()\n",
        "print(\"Current Time:\", current_time)\n"
      ]
    },
    {
      "cell_type": "markdown",
      "source": [
        "### **2. Write a Python program to subtract five days from current date.**\n",
        "    Sample Date :\n",
        "    Current Date : 2015-06-22\n",
        "    5 days before Current Date : 2015-06-17\n"
      ],
      "metadata": {
        "id": "hCL_NUESdtPQ"
      }
    },
    {
      "cell_type": "code",
      "source": [
        "from datetime import date, timedelta\n",
        "dt = date.today() - timedelta(5)\n",
        "print('Current Date :',date.today())\n",
        "print('5 days before Current Date :',dt)"
      ],
      "metadata": {
        "colab": {
          "base_uri": "https://localhost:8080/"
        },
        "id": "MCdKfl8Pc6Wr",
        "outputId": "cc4eccd8-7003-4b72-a5d4-a0924b408dfd"
      },
      "execution_count": 3,
      "outputs": [
        {
          "output_type": "stream",
          "name": "stdout",
          "text": [
            "Current Date : 2024-02-21\n",
            "5 days before Current Date : 2024-02-16\n"
          ]
        }
      ]
    },
    {
      "cell_type": "markdown",
      "source": [
        "### **3. Write a Python script to display the various Date Time formats.**\n",
        "    a) Current date and time\n",
        "    b) Current year\n",
        "    c) Month of year\n",
        "    d) Week number of the year\n",
        "    e) Weekday of the week\n",
        "    f) Day of year\n",
        "    g) Day of the month\n",
        "    h) Day of week\n"
      ],
      "metadata": {
        "id": "ATHlBWUeeGYv"
      }
    },
    {
      "cell_type": "code",
      "source": [
        "import time\n",
        "import datetime\n",
        "print(\"Current date and time: \" , datetime.datetime.now())\n",
        "print(\"Current year: \", datetime.date.today().strftime(\"%Y\"))\n",
        "print(\"Month of year: \", datetime.date.today().strftime(\"%B\"))\n",
        "print(\"Week number of the year: \", datetime.date.today().strftime(\"%W\"))\n",
        "print(\"Weekday of the week: \", datetime.date.today().strftime(\"%w\"))\n",
        "print(\"Day of year: \", datetime.date.today().strftime(\"%j\"))\n",
        "print(\"Day of the month : \", datetime.date.today().strftime(\"%d\"))\n",
        "print(\"Day of week: \", datetime.date.today().strftime(\"%A\"))"
      ],
      "metadata": {
        "colab": {
          "base_uri": "https://localhost:8080/"
        },
        "id": "fKACB0Nmd8cC",
        "outputId": "dbc35a3b-5c5d-44c8-d4f1-fde4c5112306"
      },
      "execution_count": 4,
      "outputs": [
        {
          "output_type": "stream",
          "name": "stdout",
          "text": [
            "Current date and time:  2024-02-21 11:42:35.070339\n",
            "Current year:  2024\n",
            "Month of year:  February\n",
            "Week number of the year:  08\n",
            "Weekday of the week:  3\n",
            "Day of year:  052\n",
            "Day of the month :  21\n",
            "Day of week:  Wednesday\n"
          ]
        }
      ]
    },
    {
      "cell_type": "markdown",
      "source": [
        "### **4) Write a Python program to convert a string to datetime.**\n",
        "\n",
        "    Sample String : Jan 1 2014 2:43PM\n",
        "    Expected Output : 2014-07-01 14:43:00\n"
      ],
      "metadata": {
        "id": "GnCAygjneqLQ"
      }
    },
    {
      "cell_type": "code",
      "source": [
        "from datetime import datetime\n",
        "date_object = datetime.strptime('Jul 1 2014 2:43PM', '%b %d %Y %I:%M%p')\n",
        "print(date_object)"
      ],
      "metadata": {
        "colab": {
          "base_uri": "https://localhost:8080/"
        },
        "id": "sC16zCsOeX4S",
        "outputId": "3fdef4e4-f400-49c2-db4a-853cae966bae"
      },
      "execution_count": 5,
      "outputs": [
        {
          "output_type": "stream",
          "name": "stdout",
          "text": [
            "2014-07-01 14:43:00\n"
          ]
        }
      ]
    },
    {
      "cell_type": "markdown",
      "source": [
        "### **5. Write a Python program to print yesterday, today, tomorrow.**"
      ],
      "metadata": {
        "id": "FSqzJmKkfC7b"
      }
    },
    {
      "cell_type": "code",
      "source": [
        "import datetime\n",
        "today = datetime.date.today()\n",
        "yesterday = today - datetime.timedelta(days = 1)\n",
        "tomorrow = today + datetime.timedelta(days = 1)\n",
        "print('Yesterday : ',yesterday)\n",
        "print('Today : ',today)\n",
        "print('Tomorrow : ',tomorrow)"
      ],
      "metadata": {
        "colab": {
          "base_uri": "https://localhost:8080/"
        },
        "id": "yGL4REHke4cp",
        "outputId": "f4969555-b3ed-41f9-bc27-8715c14ce06f"
      },
      "execution_count": 6,
      "outputs": [
        {
          "output_type": "stream",
          "name": "stdout",
          "text": [
            "Yesterday :  2024-02-20\n",
            "Today :  2024-02-21\n",
            "Tomorrow :  2024-02-22\n"
          ]
        }
      ]
    },
    {
      "cell_type": "markdown",
      "source": [
        "### **6. Write a Python program to add 5 seconds with the current time**"
      ],
      "metadata": {
        "id": "xtdGgsLLfQuU"
      }
    },
    {
      "cell_type": "code",
      "source": [
        "import datetime\n",
        "\n",
        "current_time = datetime.datetime.now()\n",
        "new_time = current_time + datetime.timedelta(seconds=5)\n",
        "\n",
        "print(\"Current Time:\", current_time)\n",
        "print(\"5 seconds later:\", new_time)\n"
      ],
      "metadata": {
        "colab": {
          "base_uri": "https://localhost:8080/"
        },
        "id": "bjVekvZdfMYY",
        "outputId": "f87888f8-7b7a-4e9b-ed13-597f556b0fcf"
      },
      "execution_count": 11,
      "outputs": [
        {
          "output_type": "stream",
          "name": "stdout",
          "text": [
            "Current Time: 2024-02-21 12:03:28.138564\n",
            "5 seconds later: 2024-02-21 12:03:33.138564\n"
          ]
        }
      ]
    },
    {
      "cell_type": "markdown",
      "source": [
        "### **7. Write a Python program to get week number.**\n",
        "    Sample Date : 2015, 6, 16\n",
        "    Expected Output : 25\n"
      ],
      "metadata": {
        "id": "Rge8bLuSjhDz"
      }
    },
    {
      "cell_type": "code",
      "source": [
        "import datetime\n",
        "\n",
        "# Get the current date\n",
        "current_date = datetime.date(2015, 6, 16)\n",
        "\n",
        "# Get the week number\n",
        "week_number = current_date.isocalendar()[1]\n",
        "\n",
        "# Print the week number\n",
        "print(\"Week number:\", week_number)\n"
      ],
      "metadata": {
        "colab": {
          "base_uri": "https://localhost:8080/"
        },
        "id": "oMkPgPGXinqW",
        "outputId": "fd285b6f-ecfc-40de-a999-ae904f332956"
      },
      "execution_count": 12,
      "outputs": [
        {
          "output_type": "stream",
          "name": "stdout",
          "text": [
            "Week number: 25\n"
          ]
        }
      ]
    },
    {
      "cell_type": "markdown",
      "source": [
        "### **8. Write a Python program to drop microseconds from datetime**"
      ],
      "metadata": {
        "id": "yE_YKUhij5cx"
      }
    },
    {
      "cell_type": "code",
      "source": [
        "import datetime\n",
        "\n",
        "# Create a datetime object with microseconds\n",
        "dt = datetime.datetime(2024, 2, 21, 5, 30, 45, 123456)\n",
        "\n",
        "# Drop the microseconds using the replace() method\n",
        "dt_without_microseconds = dt.replace(microsecond=0)\n",
        "\n",
        "# Print the datetime objects\n",
        "print(\"Original datetime:\", dt)\n",
        "print(\"Datetime without microseconds:\", dt_without_microseconds)\n"
      ],
      "metadata": {
        "colab": {
          "base_uri": "https://localhost:8080/"
        },
        "id": "OwNlan6BjuTm",
        "outputId": "5d55fc83-b74a-45f1-a4e3-c86d454bc385"
      },
      "execution_count": 13,
      "outputs": [
        {
          "output_type": "stream",
          "name": "stdout",
          "text": [
            "Original datetime: 2024-02-21 05:30:45.123456\n",
            "Datetime without microseconds: 2024-02-21 05:30:45\n"
          ]
        }
      ]
    },
    {
      "cell_type": "markdown",
      "source": [
        "### **9. Write a Python program to get days between two dates.**\n",
        "    Sample Dates : 2000,2,28, 2001,2,28\n",
        "    Expected Output : 366 days, 0:00:00\n"
      ],
      "metadata": {
        "id": "gHxORk6akUn8"
      }
    },
    {
      "cell_type": "code",
      "source": [
        "# 1\n",
        "\n",
        "from datetime import date\n",
        "\n",
        "def days_between(date1, date2):\n",
        "\n",
        "  # Calculate the difference between the two dates in days.\n",
        "  days_diff = (date2 - date1).days\n",
        "\n",
        "  # Calculate the time difference between the two dates.\n",
        "  time_diff = date2 - timedelta(days=days_diff) - date1\n",
        "\n",
        "  # Return the number of days and the time difference.\n",
        "  return days_diff, time_diff\n",
        "\n",
        "# Example usage\n",
        "date1 = date(2000, 2, 28)\n",
        "date2 = date(2001, 2, 28)\n",
        "\n",
        "days_diff, time_diff = days_between(date1, date2)\n",
        "\n",
        "print(f\"Days between {date1} and {date2}: {days_diff}\")\n",
        "print(f\"Time difference: {time_diff}\")\n"
      ],
      "metadata": {
        "colab": {
          "base_uri": "https://localhost:8080/"
        },
        "id": "Xi5twZx3kLEm",
        "outputId": "d660bb22-1b69-445b-9c63-1a13d8e279b4"
      },
      "execution_count": 14,
      "outputs": [
        {
          "output_type": "stream",
          "name": "stdout",
          "text": [
            "Days between 2000-02-28 and 2001-02-28: 366\n",
            "Time difference: 0:00:00\n"
          ]
        }
      ]
    },
    {
      "cell_type": "code",
      "source": [
        "# 2\n",
        "\n",
        "from datetime import date\n",
        "a = date(2000,2,28)\n",
        "b = date(2001,2,28)\n",
        "print(b-a)"
      ],
      "metadata": {
        "colab": {
          "base_uri": "https://localhost:8080/"
        },
        "id": "GW-bMKMOkkZ4",
        "outputId": "53a41e93-7d3b-4198-beae-574aa2df535c"
      },
      "execution_count": 15,
      "outputs": [
        {
          "output_type": "stream",
          "name": "stdout",
          "text": [
            "366 days, 0:00:00\n"
          ]
        }
      ]
    },
    {
      "cell_type": "markdown",
      "source": [
        "### **10. Write a Python program to get the number of days of a given month and year.**"
      ],
      "metadata": {
        "id": "WP7_u1tnkwfI"
      }
    },
    {
      "cell_type": "code",
      "source": [
        "import calendar\n",
        "\n",
        "def get_days_in_month(month, year):\n",
        "\n",
        "  # Use the calendar module to get the number of days in the month.\n",
        "  return calendar.monthrange(year, month)[1]\n",
        "\n",
        "month = 2\n",
        "year = 2024\n",
        "\n",
        "days_in_month = get_days_in_month(month, year)\n",
        "\n",
        "print(f\"Number of days in {month}/{year}: {days_in_month}\")\n"
      ],
      "metadata": {
        "colab": {
          "base_uri": "https://localhost:8080/"
        },
        "id": "jeqGaknCkpBC",
        "outputId": "74debc91-88cb-4166-cdec-790146a94508"
      },
      "execution_count": 17,
      "outputs": [
        {
          "output_type": "stream",
          "name": "stdout",
          "text": [
            "Number of days in 2/2024: 29\n"
          ]
        }
      ]
    },
    {
      "cell_type": "code",
      "source": [],
      "metadata": {
        "id": "LP3i_jJ_lFn9"
      },
      "execution_count": null,
      "outputs": []
    }
  ]
}