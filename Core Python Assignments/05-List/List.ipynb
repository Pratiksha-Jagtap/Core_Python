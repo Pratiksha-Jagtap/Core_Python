{
  "nbformat": 4,
  "nbformat_minor": 0,
  "metadata": {
    "colab": {
      "provenance": []
    },
    "kernelspec": {
      "name": "python3",
      "display_name": "Python 3"
    },
    "language_info": {
      "name": "python"
    }
  },
  "cells": [
    {
      "cell_type": "markdown",
      "source": [
        "## **1. Select all the correct options to join two lists.**\n",
        "      listOne  =  ['a', 'b', 'c', 'd']\n",
        "      listTwo =  ['e', 'f', 'g']\n",
        "\n",
        "      a)\tnewList = listOne + listTwo\n",
        "      b)\tnewList = extend(listOne, listTwo)\n",
        "      c)\tnewList = listOne.extend(listTwo)\n",
        "      d)\tnewList.extend(listOne, listTwo)\n"
      ],
      "metadata": {
        "id": "3vJhImjyb3lC"
      }
    },
    {
      "cell_type": "code",
      "execution_count": 6,
      "metadata": {
        "colab": {
          "base_uri": "https://localhost:8080/"
        },
        "id": "gK81_EnFbd-P",
        "outputId": "a775e2b8-f667-4fbe-9c46-75ae0990108d"
      },
      "outputs": [
        {
          "output_type": "stream",
          "name": "stdout",
          "text": [
            "['a', 'b', 'c', 'd', 'e', 'f', 'g']\n"
          ]
        }
      ],
      "source": [
        "listOne  =  ['a', 'b', 'c', 'd']\n",
        "listTwo =  ['e', 'f', 'g']\n",
        "\n",
        "newList = listOne + listTwo\n",
        "print(newList)"
      ]
    },
    {
      "cell_type": "code",
      "source": [
        "# so here option a is correct"
      ],
      "metadata": {
        "id": "rD5eFXXlcpIx"
      },
      "execution_count": null,
      "outputs": []
    },
    {
      "cell_type": "markdown",
      "source": [
        "## **2. Create an list of elements and execute the following functions: reverse, append, extend, count,sort.**"
      ],
      "metadata": {
        "id": "zT5tv_W-cwmj"
      }
    },
    {
      "cell_type": "code",
      "source": [
        "# reverse\n",
        "\n",
        "list_items = [2, 1, 3, 5, 4, 3, 8]\n",
        "print('before:- ',list_items)\n",
        "list_items.reverse()\n",
        "print('after:- ',list_items)"
      ],
      "metadata": {
        "colab": {
          "base_uri": "https://localhost:8080/"
        },
        "id": "R6D9uD56dN8Z",
        "outputId": "300a0a7f-6e38-4100-cde2-83cd3edae165"
      },
      "execution_count": 14,
      "outputs": [
        {
          "output_type": "stream",
          "name": "stdout",
          "text": [
            "before:-  [8, 3, 4, 5, 3, 1, 2]\n",
            "after:-  [2, 1, 3, 5, 4, 3, 8]\n"
          ]
        }
      ]
    },
    {
      "cell_type": "code",
      "source": [
        "# append\n",
        "\n",
        "list_items = [2, 1, 3, 5, 4, 3, 8]\n",
        "print('before:- ',list_items)\n",
        "list_items.append(12)\n",
        "print('after:- ',list_items)"
      ],
      "metadata": {
        "colab": {
          "base_uri": "https://localhost:8080/"
        },
        "id": "B8dOKoGVdXSh",
        "outputId": "9ff8c351-49a5-4739-ce43-038f99fe86ad"
      },
      "execution_count": 15,
      "outputs": [
        {
          "output_type": "stream",
          "name": "stdout",
          "text": [
            "before:-  [2, 1, 3, 5, 4, 3, 8]\n",
            "after:-  [2, 1, 3, 5, 4, 3, 8, 12]\n"
          ]
        }
      ]
    },
    {
      "cell_type": "code",
      "source": [
        "# extend\n",
        "\n",
        "colors = [\"Pink\",\"Black\",\"Purple\",\"Green\"]\n",
        "other_colors = [\"Red\",\"Yellow\"]\n",
        "\n",
        "print('Colors:- ',colors)\n",
        "print('Other Colors:- ',other_colors)\n",
        "\n",
        "colors.extend(other_colors)\n",
        "print('After extend Function Colors:- ',colors)"
      ],
      "metadata": {
        "colab": {
          "base_uri": "https://localhost:8080/"
        },
        "id": "sfVrJzUcecFx",
        "outputId": "4af4b6bb-b402-4593-8a23-5351a16c3ed5"
      },
      "execution_count": 19,
      "outputs": [
        {
          "output_type": "stream",
          "name": "stdout",
          "text": [
            "Colors:-  ['Pink', 'Black', 'Purple', 'Green']\n",
            "Other Colors:-  ['Red', 'Yellow']\n",
            "After extend Function Colors:-  ['Pink', 'Black', 'Purple', 'Green', 'Red', 'Yellow']\n"
          ]
        }
      ]
    },
    {
      "cell_type": "code",
      "source": [
        "# count\n",
        "\n",
        "fruits = [\"Apple\", \"Mango\", \"Banana\", \"Cherry\" , \"Papaya\",\"Apple\"]\n",
        "print(fruits.count(\"Apple\"))"
      ],
      "metadata": {
        "colab": {
          "base_uri": "https://localhost:8080/"
        },
        "id": "cfyLiMM9fBn_",
        "outputId": "5480a2ad-771c-49b9-a9ca-c517bb8ddd37"
      },
      "execution_count": 21,
      "outputs": [
        {
          "output_type": "stream",
          "name": "stdout",
          "text": [
            "2\n"
          ]
        }
      ]
    },
    {
      "cell_type": "code",
      "source": [
        "# sort\n",
        "\n",
        "items = [2,5,6,1,8,3]\n",
        "print(\"Before Sort:- \",items)\n",
        "items.sort()\n",
        "print(\"After Sort:- \",items)"
      ],
      "metadata": {
        "colab": {
          "base_uri": "https://localhost:8080/"
        },
        "id": "NDMqRDK3fm1i",
        "outputId": "a994f066-e824-4552-96a3-4c6c6b37401c"
      },
      "execution_count": 22,
      "outputs": [
        {
          "output_type": "stream",
          "name": "stdout",
          "text": [
            "Before Sort:-  [2, 5, 6, 1, 8, 3]\n",
            "After Sort:-  [1, 2, 3, 5, 6, 8]\n"
          ]
        }
      ]
    },
    {
      "cell_type": "markdown",
      "source": [
        "## **3.  Write a Python program to print a specified list after removing the 0th, 4th and 5th elements.**\n",
        "    Sample List : ['Red', 'Green', 'White', 'Black', 'Pink', 'Yellow']\n",
        "    Expected Output : ['Green', 'White', 'Black']\n"
      ],
      "metadata": {
        "id": "I8ReSYwtgU98"
      }
    },
    {
      "cell_type": "code",
      "source": [
        "sample_list = ['Red', 'Green', 'White', 'Black', 'Pink', 'Yellow']\n",
        "print(sample_list)\n",
        "del sample_list[0]\n",
        "del sample_list[3]\n",
        "del sample_list[3]\n",
        "print(sample_list)"
      ],
      "metadata": {
        "colab": {
          "base_uri": "https://localhost:8080/"
        },
        "id": "GWpYPWrDgKk2",
        "outputId": "5e26e07e-6704-420f-e063-24b45f8d0d61"
      },
      "execution_count": 23,
      "outputs": [
        {
          "output_type": "stream",
          "name": "stdout",
          "text": [
            "['Red', 'Green', 'White', 'Black', 'Pink', 'Yellow']\n",
            "['Green', 'White', 'Black']\n"
          ]
        }
      ]
    },
    {
      "cell_type": "markdown",
      "source": [
        "## **4. What is the output of the following list operation**\n",
        "        aList = [10, 20, 30, 40, 50, 60, 70, 80]\n",
        "        print(aList[2:5])\n",
        "        print(aList[:4])\n",
        "        print(aList[3:])\n"
      ],
      "metadata": {
        "id": "26RjmvXvhsJO"
      }
    },
    {
      "cell_type": "code",
      "source": [
        "aList = [10, 20, 30, 40, 50, 60, 70, 80]\n",
        "print(aList[2:5])\n",
        "print(aList[:4])\n",
        "print(aList[3:])"
      ],
      "metadata": {
        "colab": {
          "base_uri": "https://localhost:8080/"
        },
        "id": "cYMb3pishSEw",
        "outputId": "055dd83d-7e17-4a73-d73d-1eea6cb93216"
      },
      "execution_count": 24,
      "outputs": [
        {
          "output_type": "stream",
          "name": "stdout",
          "text": [
            "[30, 40, 50]\n",
            "[10, 20, 30, 40]\n",
            "[40, 50, 60, 70, 80]\n"
          ]
        }
      ]
    },
    {
      "cell_type": "markdown",
      "source": [
        "## **5. Select all the correct options to copy a list**\n",
        "         aList = ['a', 'b', 'c', 'd']\n",
        "\n",
        "        a)\tnewList = copy(aList)\n",
        "        b)\tnewList = aList.copy()\n",
        "        c)\tnewList.copy(aList)\n",
        "        d)    newList = list(aList)\n"
      ],
      "metadata": {
        "id": "0uHrqfr0h-a7"
      }
    },
    {
      "cell_type": "code",
      "source": [
        "aList = ['a', 'b', 'c', 'd']\n",
        "newList = aList.copy()\n",
        "print(newList)"
      ],
      "metadata": {
        "colab": {
          "base_uri": "https://localhost:8080/"
        },
        "id": "f4l8eiEDh7Q4",
        "outputId": "3e29c9aa-9e1c-4f86-9cd0-d9f8917bf922"
      },
      "execution_count": 27,
      "outputs": [
        {
          "output_type": "stream",
          "name": "stdout",
          "text": [
            "['a', 'b', 'c', 'd']\n"
          ]
        }
      ]
    },
    {
      "cell_type": "code",
      "source": [
        "aList = ['a', 'b', 'c', 'd']\n",
        "newList = list(aList)\n",
        "print(newList)"
      ],
      "metadata": {
        "colab": {
          "base_uri": "https://localhost:8080/"
        },
        "id": "8Sub1SouidbD",
        "outputId": "1bd1d780-aaf4-48e7-93a1-92608ede3f9a"
      },
      "execution_count": 30,
      "outputs": [
        {
          "output_type": "stream",
          "name": "stdout",
          "text": [
            "['a', 'b', 'c', 'd']\n"
          ]
        }
      ]
    },
    {
      "cell_type": "code",
      "source": [
        "# so option b and option d is correct"
      ],
      "metadata": {
        "id": "AT_5T1FeiqnB"
      },
      "execution_count": 31,
      "outputs": []
    },
    {
      "cell_type": "markdown",
      "source": [
        "## **6. Create an list of elements and slice & dice it.**"
      ],
      "metadata": {
        "id": "GNzLBNcAjI7B"
      }
    },
    {
      "cell_type": "code",
      "source": [
        "list_items = [1, 2, 3, 4, 5, 6, 7, 8, 9, 10]\n",
        "\n",
        "# Get the first three elements\n",
        "print(list_items[:3])\n",
        "\n",
        "# Get elements from index 4 to 7 (excluding 7)\n",
        "print(list_items[4:7])\n",
        "\n",
        "# Get elements starting from index 2\n",
        "print(list_items[2:])\n",
        "\n",
        "# Get elements up to but not including index 6\n",
        "print(list_items[:6])\n",
        "\n",
        "# Get every other element starting from index 1\n",
        "print(list_items[1::2])\n",
        "\n",
        "# Get every third element starting from index 2\n",
        "print(list_items[2::3])\n",
        "\n",
        "# Reverse the list\n",
        "print(list_items[::-1])\n"
      ],
      "metadata": {
        "colab": {
          "base_uri": "https://localhost:8080/"
        },
        "id": "KtAZHiIHjID4",
        "outputId": "24601bd7-1443-4b02-ac70-1534dc1ed6af"
      },
      "execution_count": 32,
      "outputs": [
        {
          "output_type": "stream",
          "name": "stdout",
          "text": [
            "[1, 2, 3]\n",
            "[5, 6, 7]\n",
            "[3, 4, 5, 6, 7, 8, 9, 10]\n",
            "[1, 2, 3, 4, 5, 6]\n",
            "[2, 4, 6, 8, 10]\n",
            "[3, 6, 9]\n",
            "[10, 9, 8, 7, 6, 5, 4, 3, 2, 1]\n"
          ]
        }
      ]
    },
    {
      "cell_type": "markdown",
      "source": [
        "## **7. Given a Python list you should be able to display Python list in the following order**\n",
        "       \n",
        "       aLsit = [100, 200, 300, 400, 500]\n",
        "\n",
        "       Expected output = [500, 400, 300, 200, 100]\n"
      ],
      "metadata": {
        "id": "UCBiUsL7kYF8"
      }
    },
    {
      "cell_type": "code",
      "source": [
        "# Method 1\n",
        "\n",
        "aList = [100, 200, 300, 400, 500]\n",
        "print(aList[::-1])"
      ],
      "metadata": {
        "colab": {
          "base_uri": "https://localhost:8080/"
        },
        "id": "v_Gf-bTJkRDi",
        "outputId": "a1aa3c43-2ce3-4d8a-8107-9b05ce196172"
      },
      "execution_count": 37,
      "outputs": [
        {
          "output_type": "stream",
          "name": "stdout",
          "text": [
            "[500, 400, 300, 200, 100]\n"
          ]
        }
      ]
    },
    {
      "cell_type": "code",
      "source": [
        "# Method 2\n",
        "\n",
        "aList.reverse()\n",
        "print(aList)"
      ],
      "metadata": {
        "colab": {
          "base_uri": "https://localhost:8080/"
        },
        "id": "SJCf9A1qkuSG",
        "outputId": "ad4b0a04-c015-42f4-da94-c5aa553ad757"
      },
      "execution_count": 38,
      "outputs": [
        {
          "output_type": "stream",
          "name": "stdout",
          "text": [
            "[500, 400, 300, 200, 100]\n"
          ]
        }
      ]
    },
    {
      "cell_type": "markdown",
      "source": [
        "## **8. What will be the output of the following code snippet?**\n",
        "    a=[1,2,3,4,5]\n",
        "    print(a[3:0:-1])\n"
      ],
      "metadata": {
        "id": "1jwn-0QHlGpG"
      }
    },
    {
      "cell_type": "code",
      "source": [
        "a=[1,2,3,4,5]\n",
        "print(a[3:0:-1])"
      ],
      "metadata": {
        "colab": {
          "base_uri": "https://localhost:8080/"
        },
        "id": "-3fFPsjhk8gT",
        "outputId": "d20e7894-cdd3-4dce-dab6-f361cd4340b1"
      },
      "execution_count": 39,
      "outputs": [
        {
          "output_type": "stream",
          "name": "stdout",
          "text": [
            "[4, 3, 2]\n"
          ]
        }
      ]
    },
    {
      "cell_type": "markdown",
      "source": [
        "## **9. Add item 7000 after 6000 in the following Python List**\n",
        "     \n",
        "    list1 = [10, 20, [300, 400, [5000, 6000], 500], 30, 40]\n",
        "    Expected output = [10, 20, [300, 400, [5000, 6000, 7000], 500], 30, 40]\n"
      ],
      "metadata": {
        "id": "RxRW45dulUrZ"
      }
    },
    {
      "cell_type": "code",
      "source": [
        "list1 = [10, 20, [300, 400, [5000, 6000], 500], 30, 40]\n",
        "list1[2][2].insert(2, 7000)\n",
        "print(list1)\n"
      ],
      "metadata": {
        "colab": {
          "base_uri": "https://localhost:8080/"
        },
        "id": "4CNTj5z3lT0L",
        "outputId": "121b4f19-a1ae-4776-a29f-5e13f4172e7f"
      },
      "execution_count": 40,
      "outputs": [
        {
          "output_type": "stream",
          "name": "stdout",
          "text": [
            "[10, 20, [300, 400, [5000, 6000, 7000], 500], 30, 40]\n"
          ]
        }
      ]
    },
    {
      "cell_type": "code",
      "source": [],
      "metadata": {
        "id": "lKTY00NSlOCI"
      },
      "execution_count": null,
      "outputs": []
    }
  ]
}