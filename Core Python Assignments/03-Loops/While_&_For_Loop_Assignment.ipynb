{
  "nbformat": 4,
  "nbformat_minor": 0,
  "metadata": {
    "colab": {
      "provenance": []
    },
    "kernelspec": {
      "name": "python3",
      "display_name": "Python 3"
    },
    "language_info": {
      "name": "python"
    }
  },
  "cells": [
    {
      "cell_type": "markdown",
      "source": [
        "## **1. what is the value of x**"
      ],
      "metadata": {
        "id": "TaRzsa-V8fsW"
      }
    },
    {
      "cell_type": "code",
      "execution_count": null,
      "metadata": {
        "colab": {
          "base_uri": "https://localhost:8080/"
        },
        "id": "vyIHe6eP8Mwb",
        "outputId": "2a14e84b-c09a-44a8-b886-154646260332"
      },
      "outputs": [
        {
          "output_type": "stream",
          "name": "stdout",
          "text": [
            "100\n"
          ]
        }
      ],
      "source": [
        "x = 0\n",
        "while(x<100):\n",
        "  x+=2\n",
        "print(x)"
      ]
    },
    {
      "cell_type": "markdown",
      "source": [
        "## **2. Using while loop accept numbers until the sum of number is less than 100.**"
      ],
      "metadata": {
        "id": "v21zSRi0-SXW"
      }
    },
    {
      "cell_type": "code",
      "source": [
        "sum = 0\n",
        "while(sum <= 100):\n",
        "  num = int(input(\"Enter a number: \"))\n",
        "  sum += num\n",
        "print(\"The sum of the numbers entered is:\", sum)"
      ],
      "metadata": {
        "colab": {
          "base_uri": "https://localhost:8080/"
        },
        "id": "uxbjP3Z--L_n",
        "outputId": "cd716af1-99f8-4681-8328-104546e88f12"
      },
      "execution_count": 13,
      "outputs": [
        {
          "output_type": "stream",
          "name": "stdout",
          "text": [
            "Enter a number: 55\n",
            "Enter a number: 55\n",
            "The sum of the numbers entered is: 110\n"
          ]
        }
      ]
    },
    {
      "cell_type": "code",
      "source": [
        "# in above output I pass first value as 55 the 55 < 100 then it has again give me text box two enter another number\n",
        "# so I have value 55 and I again enter 55 as my second value so it has give me output as 110 is the sum of my entered numbers\n",
        "# so I've reached to 100 that's why the program didn't give me the user interface of  me enter a number\n"
      ],
      "metadata": {
        "id": "ZWglz4sxEIeS"
      },
      "execution_count": null,
      "outputs": []
    },
    {
      "cell_type": "markdown",
      "source": [
        "## **3. Take 10 integers from keyboard using loop and print their average value on the screen.**"
      ],
      "metadata": {
        "id": "71M_ylclyX19"
      }
    },
    {
      "cell_type": "code",
      "source": [
        "total_sum = 0\n",
        "for n in range (10):\n",
        "    num = float(input('Enter number: '))\n",
        "\n",
        "# calculate total sum of numbers\n",
        "    total_sum += num\n",
        "\n",
        "# calculate average of numbers\n",
        "    avg = total_sum / 10\n",
        "\n",
        "# print average value\n",
        "print('Average of numbers = %0.2f' %avg)"
      ],
      "metadata": {
        "colab": {
          "base_uri": "https://localhost:8080/"
        },
        "id": "KAo8296Rs6eD",
        "outputId": "3458e0d6-e7d6-4833-d85b-56198e7dbb31"
      },
      "execution_count": null,
      "outputs": [
        {
          "output_type": "stream",
          "name": "stdout",
          "text": [
            "Enter number: 1\n",
            "Enter number: 2\n",
            "Enter number: 3\n",
            "Enter number: 4\n",
            "Enter number: 5\n",
            "Enter number: 6\n",
            "Enter number: 7\n",
            "Enter number: 8\n",
            "Enter number: 9\n",
            "Enter number: 10\n",
            "Average of numbers = 5.50\n"
          ]
        }
      ]
    },
    {
      "cell_type": "markdown",
      "source": [
        "## **4. Print the following patterns using loop**"
      ],
      "metadata": {
        "id": "GWX3l-gSzdu_"
      }
    },
    {
      "cell_type": "markdown",
      "source": [
        "a)  \n",
        "    \n",
        "    *\n",
        "\n",
        "    **\n",
        "\n",
        "    ***\n",
        "\n",
        "    ****\n"
      ],
      "metadata": {
        "id": "9IjwzihOztP0"
      }
    },
    {
      "cell_type": "code",
      "source": [
        "rows = 4\n",
        "for i in range(rows):\n",
        "    for j in range(i + 1):\n",
        "        print(\"*\", end=\"\")\n",
        "    print(' ')"
      ],
      "metadata": {
        "colab": {
          "base_uri": "https://localhost:8080/"
        },
        "id": "giELLZsNzFxk",
        "outputId": "60fe4e0b-5431-478b-d40c-621bc1cc55e7"
      },
      "execution_count": null,
      "outputs": [
        {
          "output_type": "stream",
          "name": "stdout",
          "text": [
            "* \n",
            "** \n",
            "*** \n",
            "**** \n"
          ]
        }
      ]
    },
    {
      "cell_type": "markdown",
      "source": [
        "b.\n",
        "   \n",
        "   \n",
        "        *  \n",
        "\n",
        "       ***\n",
        "\n",
        "      *****\n",
        "\n",
        "       ***\n",
        "\n",
        "        *  \n"
      ],
      "metadata": {
        "id": "MCeNQTpnFPkr"
      }
    },
    {
      "cell_type": "code",
      "source": [
        "n = 3\n",
        "\n",
        "# upward pyramid\n",
        "for i in range(n):\n",
        "    for j in range(n - i - 1):\n",
        "        print(' ', end='')\n",
        "    for j in range(2 * i + 1):\n",
        "        print('*', end='')\n",
        "    print()\n",
        "\n",
        "# downward pyramid\n",
        "for i in range(n - 1):\n",
        "    for j in range(i + 1):\n",
        "        print(' ', end='')\n",
        "    for j in range(2*(n - i - 1) - 1):\n",
        "        print('*', end='')\n",
        "    print()"
      ],
      "metadata": {
        "colab": {
          "base_uri": "https://localhost:8080/"
        },
        "id": "XN1Bp2C3ZAyp",
        "outputId": "47361215-5940-4159-e08f-278531ff96b8"
      },
      "execution_count": 69,
      "outputs": [
        {
          "output_type": "stream",
          "name": "stdout",
          "text": [
            "  *\n",
            " ***\n",
            "*****\n",
            " ***\n",
            "  *\n"
          ]
        }
      ]
    },
    {
      "cell_type": "markdown",
      "source": [
        "c.\n",
        "\n",
        "      1010101\n",
        "    \n",
        "       10101\n",
        "       \n",
        "        101\n",
        "         \n",
        "         1"
      ],
      "metadata": {
        "id": "u49P5ZFqinlo"
      }
    },
    {
      "cell_type": "code",
      "source": [
        "n = 4\n",
        "for i in range(n, 0, -1):\n",
        "    for j in range(n - i + 1):\n",
        "        print(\" \", end=\"\")\n",
        "    for k in range(2 * i - 1):\n",
        "        if k % 2 == 0:\n",
        "            print(\"1\", end=\"\")\n",
        "        else:\n",
        "            print(\"0\", end=\"\")\n",
        "    print()\n"
      ],
      "metadata": {
        "colab": {
          "base_uri": "https://localhost:8080/"
        },
        "id": "T5BaY5l6b4nt",
        "outputId": "6e1fc01e-2783-429c-85d5-827281534240"
      },
      "execution_count": 81,
      "outputs": [
        {
          "output_type": "stream",
          "name": "stdout",
          "text": [
            " 1010101\n",
            "  10101\n",
            "   101\n",
            "    1\n"
          ]
        }
      ]
    },
    {
      "cell_type": "markdown",
      "source": [
        "## **5. Print multiplication table of given number**"
      ],
      "metadata": {
        "id": "HwKYI83dlJWz"
      }
    },
    {
      "cell_type": "code",
      "source": [
        "num = int(input(\"Enter a number: \"))\n",
        "for i in range(1, 11):\n",
        "    print(num * i)"
      ],
      "metadata": {
        "colab": {
          "base_uri": "https://localhost:8080/"
        },
        "id": "5EsS7zaelicd",
        "outputId": "58c5821a-9e67-42d8-afc5-aacbd5e9221f"
      },
      "execution_count": 85,
      "outputs": [
        {
          "output_type": "stream",
          "name": "stdout",
          "text": [
            "Enter a number: 2\n",
            "2\n",
            "4\n",
            "6\n",
            "8\n",
            "10\n",
            "12\n",
            "14\n",
            "16\n",
            "18\n",
            "20\n"
          ]
        }
      ]
    },
    {
      "cell_type": "markdown",
      "source": [
        "## **6. Given a list iterate it and display numbers which are divisible by 5 and if you find number greater than 150 stop the loop iteration**\n",
        "\n",
        "  **list1 = [12, 15, 32, 42, 55, 75, 122, 132, 150, 180, 200]**\n"
      ],
      "metadata": {
        "id": "NzkosbWjm7TG"
      }
    },
    {
      "cell_type": "code",
      "source": [
        "list1 = [12, 15, 32, 42, 55, 75, 122, 132, 150, 180, 200]\n",
        "for x in list1:\n",
        "  if(x %5 == 0):\n",
        "    print(x)\n",
        "    if(x >= 150):\n",
        "      break\n"
      ],
      "metadata": {
        "colab": {
          "base_uri": "https://localhost:8080/"
        },
        "id": "f0VZhXZmnlsR",
        "outputId": "83ed17f5-0431-4d23-a182-47642580842c"
      },
      "execution_count": 89,
      "outputs": [
        {
          "output_type": "stream",
          "name": "stdout",
          "text": [
            "15\n",
            "55\n",
            "75\n",
            "150\n"
          ]
        }
      ]
    },
    {
      "cell_type": "markdown",
      "source": [
        "## **7. Given a number count the total number of digits in a number**\n",
        "\n",
        "  **For example, the number is 75869, so the output should be 5.**\n"
      ],
      "metadata": {
        "id": "WG0Tt7l-otS1"
      }
    },
    {
      "cell_type": "code",
      "source": [
        "num = int(input(\"Enter a number: \"))\n",
        "count = 0\n",
        "while num != 0:\n",
        "  num //= 10\n",
        "  count += 1\n",
        "print(\"Number of digits:\", count)\n"
      ],
      "metadata": {
        "colab": {
          "base_uri": "https://localhost:8080/"
        },
        "id": "Mzp5T_DNn53n",
        "outputId": "1847799c-25c1-4a1d-cfa9-8483e4163ad5"
      },
      "execution_count": 92,
      "outputs": [
        {
          "output_type": "stream",
          "name": "stdout",
          "text": [
            "Enter a number: 84875452\n",
            "Number of digits: 8\n"
          ]
        }
      ]
    },
    {
      "cell_type": "markdown",
      "source": [
        "## **8. Display -10 to -1 using for loop**"
      ],
      "metadata": {
        "id": "0w1B_KunpHU5"
      }
    },
    {
      "cell_type": "code",
      "source": [
        "for i in range(-10, 0):\n",
        "    print(i)\n"
      ],
      "metadata": {
        "colab": {
          "base_uri": "https://localhost:8080/"
        },
        "id": "Swi-Ffzjo11G",
        "outputId": "64eaa0ad-f4f8-42f7-84d2-53711b658e01"
      },
      "execution_count": 93,
      "outputs": [
        {
          "output_type": "stream",
          "name": "stdout",
          "text": [
            "-10\n",
            "-9\n",
            "-8\n",
            "-7\n",
            "-6\n",
            "-5\n",
            "-4\n",
            "-3\n",
            "-2\n",
            "-1\n"
          ]
        }
      ]
    },
    {
      "cell_type": "markdown",
      "source": [
        "## **9. Display a message “Done” after successful execution of for loop**"
      ],
      "metadata": {
        "id": "Ht0i0yMnpqU7"
      }
    },
    {
      "cell_type": "code",
      "source": [
        "for i in range(5):\n",
        "  print(i)\n",
        "print(\"Done!\")"
      ],
      "metadata": {
        "colab": {
          "base_uri": "https://localhost:8080/"
        },
        "id": "rB7bmFuGqRdZ",
        "outputId": "667aa5a8-e3b3-4900-8ee2-525d8e8277b6"
      },
      "execution_count": 97,
      "outputs": [
        {
          "output_type": "stream",
          "name": "stdout",
          "text": [
            "0\n",
            "1\n",
            "2\n",
            "3\n",
            "4\n",
            "Done!\n"
          ]
        }
      ]
    },
    {
      "cell_type": "code",
      "source": [
        "for i in range(10):\n",
        "  if i %2 == 0:\n",
        "    print(i, 'Even Number')\n",
        "  else:\n",
        "    print(i, 'Odd Number')\n",
        "print('Done!')"
      ],
      "metadata": {
        "colab": {
          "base_uri": "https://localhost:8080/"
        },
        "id": "ntnaAifCpaFe",
        "outputId": "2f100d12-47b0-4de1-f7a2-d7a366c097e1"
      },
      "execution_count": 96,
      "outputs": [
        {
          "output_type": "stream",
          "name": "stdout",
          "text": [
            "0 Even Number\n",
            "1 Odd Number\n",
            "2 Even Number\n",
            "3 Odd Number\n",
            "4 Even Number\n",
            "5 Odd Number\n",
            "6 Even Number\n",
            "7 Odd Number\n",
            "8 Even Number\n",
            "9 Odd Number\n",
            "Done!\n"
          ]
        }
      ]
    },
    {
      "cell_type": "markdown",
      "source": [
        "## **10. Print the following pattern using nested for loop**\n",
        "\n",
        " 5 4 3 2 1\n",
        "\n",
        " 4 3 2 1\n",
        "\n",
        "3 2 1\n",
        "\n",
        "2 1\n",
        "\n",
        "1"
      ],
      "metadata": {
        "id": "41ArGINJqdei"
      }
    },
    {
      "cell_type": "code",
      "source": [
        "rows = 5\n",
        "for i in range(0, rows + 1):\n",
        "    for j in range(rows - i, 0, -1):\n",
        "        print(j, end=' ')\n",
        "    print()"
      ],
      "metadata": {
        "colab": {
          "base_uri": "https://localhost:8080/"
        },
        "id": "j1FwPGnFqE6Q",
        "outputId": "2b9a6f64-3ff8-4a80-f494-d494e3e2cbb1"
      },
      "execution_count": 98,
      "outputs": [
        {
          "output_type": "stream",
          "name": "stdout",
          "text": [
            "5 4 3 2 1 \n",
            "4 3 2 1 \n",
            "3 2 1 \n",
            "2 1 \n",
            "1 \n",
            "\n"
          ]
        }
      ]
    },
    {
      "cell_type": "code",
      "source": [],
      "metadata": {
        "id": "UsMWTT7VqxQY"
      },
      "execution_count": null,
      "outputs": []
    }
  ]
}