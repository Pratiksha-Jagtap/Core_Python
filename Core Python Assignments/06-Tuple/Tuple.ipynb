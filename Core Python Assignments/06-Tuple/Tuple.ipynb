{
  "nbformat": 4,
  "nbformat_minor": 0,
  "metadata": {
    "colab": {
      "provenance": []
    },
    "kernelspec": {
      "name": "python3",
      "display_name": "Python 3"
    },
    "language_info": {
      "name": "python"
    }
  },
  "cells": [
    {
      "cell_type": "markdown",
      "source": [
        "### **1. Select which is true for Python tuple**\n",
        "\n",
        "    a)\t  A tuple maintains the order of items\n",
        "    b)\t  A tuple is unordered\n",
        "    c)\t  We cannot change the tuple once created\n",
        "    d)\t  We can change the tuple once created\n"
      ],
      "metadata": {
        "id": "7g3dnDpvQfsv"
      }
    },
    {
      "cell_type": "markdown",
      "source": [
        "**Option C is correct**\n",
        "\n",
        "once tuple is created you cannot change its values because Tuples are unchangeable or immutable"
      ],
      "metadata": {
        "id": "QL1NWXsWQw62"
      }
    },
    {
      "cell_type": "markdown",
      "source": [
        "### **2. Access value 20 from the following tuple**\n",
        "       aTuple = (\"Orange\", [10, 20, 30], (5,  15, 25))\n",
        "       Expected output : 20\n"
      ],
      "metadata": {
        "id": "UaMNAeBTRYuC"
      }
    },
    {
      "cell_type": "code",
      "source": [
        " aTuple = (\"Orange\", [10, 20, 30], (5,  15, 25))\n",
        " aTuple[1][1]"
      ],
      "metadata": {
        "colab": {
          "base_uri": "https://localhost:8080/"
        },
        "id": "y1sUgdlyQBHM",
        "outputId": "995ea017-4026-415f-d191-0948597f4ded"
      },
      "execution_count": 3,
      "outputs": [
        {
          "output_type": "execute_result",
          "data": {
            "text/plain": [
              "20"
            ]
          },
          "metadata": {},
          "execution_count": 3
        }
      ]
    },
    {
      "cell_type": "markdown",
      "source": [
        "### **3. Unpack the following tuple into 4 variables**\n",
        "    aTuple = (10, 20, 30, 40)\n",
        "    Expected output:\n",
        "    aTuple = (10, 20, 30, 40)\n",
        "    \n",
        "    # Your code\n",
        "    print(a) # should print 10\n",
        "    print(b) # should print 20\n",
        "    print(c) # should print 30\n",
        "    print(d) # should print 40\n"
      ],
      "metadata": {
        "id": "H8-5hJgXSJD9"
      }
    },
    {
      "cell_type": "code",
      "source": [
        "aTuple = (10, 20, 30, 40)\n",
        "a, b, c, d = aTuple\n",
        "\n",
        "print(a)\n",
        "print(b)\n",
        "print(c)\n",
        "print(d)"
      ],
      "metadata": {
        "colab": {
          "base_uri": "https://localhost:8080/"
        },
        "id": "w-iWua6_Rv4n",
        "outputId": "81c16ffb-2fed-4642-9194-787fa6cb89ac"
      },
      "execution_count": 5,
      "outputs": [
        {
          "output_type": "stream",
          "name": "stdout",
          "text": [
            "10\n",
            "20\n",
            "30\n",
            "40\n"
          ]
        }
      ]
    },
    {
      "cell_type": "markdown",
      "source": [
        "### **4. Copy element 44 and 55 from the following tuple into a new tuple**\n",
        "       tuple1 = (11, 22, 33, 44, 55, 66)\n",
        "       Expected output : tuple2 = (44, 55)\n"
      ],
      "metadata": {
        "id": "9Mgl_L8HSxyy"
      }
    },
    {
      "cell_type": "code",
      "source": [
        "tuple1 = (11, 22, 33, 44, 55, 66)\n",
        "tuple2 = tuple1[3:-1]\n",
        "print('tuple2 = ',tuple2)"
      ],
      "metadata": {
        "colab": {
          "base_uri": "https://localhost:8080/"
        },
        "id": "vgsq_mXHSmBG",
        "outputId": "4d35cde2-315c-4362-c22f-7a160b89c80c"
      },
      "execution_count": 7,
      "outputs": [
        {
          "output_type": "stream",
          "name": "stdout",
          "text": [
            "tuple2 =  (44, 55)\n"
          ]
        }
      ]
    },
    {
      "cell_type": "code",
      "source": [
        "tuple1 = (11, 22, 33, 44, 55, 66)\n",
        "tuple2 = tuple1[3:5]\n",
        "print('tuple2 = ',tuple2)"
      ],
      "metadata": {
        "colab": {
          "base_uri": "https://localhost:8080/"
        },
        "id": "x_kmeZMvWIIC",
        "outputId": "20c08a37-cc8b-4833-b706-94c1a64d5989"
      },
      "execution_count": 17,
      "outputs": [
        {
          "output_type": "stream",
          "name": "stdout",
          "text": [
            "tuple2 =  (44, 55)\n"
          ]
        }
      ]
    },
    {
      "cell_type": "markdown",
      "source": [
        "### **5. Counts the number of occurrences of item 50 from a tuple**\n",
        "      tuple1 = (50, 10, 60, 70, 50)\n"
      ],
      "metadata": {
        "id": "R4NDd8wfTeHb"
      }
    },
    {
      "cell_type": "code",
      "source": [
        "tuple1 = (50, 10, 60, 70, 50)\n",
        "print(tuple1.count(50))"
      ],
      "metadata": {
        "colab": {
          "base_uri": "https://localhost:8080/"
        },
        "id": "6jBadqT5TRzv",
        "outputId": "58754efe-8569-4d87-d78b-cc5539951d2b"
      },
      "execution_count": 8,
      "outputs": [
        {
          "output_type": "stream",
          "name": "stdout",
          "text": [
            "2\n"
          ]
        }
      ]
    },
    {
      "cell_type": "markdown",
      "source": [
        "### **6. Modify the first item (22) of a list inside a following tuple to 222**\n",
        "        tuple1 = (11, [22, 33], 44, 55)\n",
        "        Expected output : tuple1 = (11, [222, 33], 44, 55)\n"
      ],
      "metadata": {
        "id": "dDKjaO1kTuqK"
      }
    },
    {
      "cell_type": "code",
      "source": [
        "tuple1 = (11, [22, 33], 44, 55)\n",
        "tuple1[1][0] = 222\n",
        "print(tuple1)\n",
        "\n",
        "# we are able to update this because there is a list inside the tuple and lists are mutable"
      ],
      "metadata": {
        "colab": {
          "base_uri": "https://localhost:8080/"
        },
        "id": "OL36GEWgTomV",
        "outputId": "cc48fa10-1984-45f8-b366-6dc3217ed3ee"
      },
      "execution_count": 9,
      "outputs": [
        {
          "output_type": "stream",
          "name": "stdout",
          "text": [
            "(11, [222, 33], 44, 55)\n"
          ]
        }
      ]
    },
    {
      "cell_type": "markdown",
      "source": [
        "### **7. Swap the following two tuples**\n",
        "                           tuple1 = (11, 22)\n",
        "                           tuple2 = (99, 88)\n",
        "         Expected output : tuple1 = (99, 88)\n",
        "                           tuple2 = (11, 22)\n"
      ],
      "metadata": {
        "id": "jO1OpTwlUEms"
      }
    },
    {
      "cell_type": "code",
      "source": [
        "tuple1 = (11, 22)\n",
        "tuple2 = (99, 88)\n",
        "tuple1, tuple2 = tuple2, tuple1\n",
        "print('tuple2 ',tuple2)\n",
        "print('tuple1 ',tuple1)"
      ],
      "metadata": {
        "colab": {
          "base_uri": "https://localhost:8080/"
        },
        "id": "yjkK8wUNT89W",
        "outputId": "0c7bfe27-5cc8-453e-8617-73f5a06a37c8"
      },
      "execution_count": 12,
      "outputs": [
        {
          "output_type": "stream",
          "name": "stdout",
          "text": [
            "tuple2  (11, 22)\n",
            "tuple1  (99, 88)\n"
          ]
        }
      ]
    },
    {
      "cell_type": "markdown",
      "source": [
        "### **8. Reverse the following tuple**\n",
        "    aTuple = (10, 20, 30, 40, 50)\n",
        "    Expected output : (50, 40, 30, 20, 10)\n"
      ],
      "metadata": {
        "id": "Y7t0jWd6UtQo"
      }
    },
    {
      "cell_type": "code",
      "source": [
        "aTuple = (10, 20, 30, 40, 50)\n",
        "aTuple[::-1]\n",
        "\n",
        "# new_tuple = aTuple[::-1]\n",
        "# print(new_tuple)"
      ],
      "metadata": {
        "colab": {
          "base_uri": "https://localhost:8080/"
        },
        "id": "ruBLb84xUd_q",
        "outputId": "b0bbca3e-140a-482d-9db2-9de7e7f0a920"
      },
      "execution_count": 16,
      "outputs": [
        {
          "output_type": "execute_result",
          "data": {
            "text/plain": [
              "(50, 40, 30, 20, 10)"
            ]
          },
          "metadata": {},
          "execution_count": 16
        }
      ]
    },
    {
      "cell_type": "markdown",
      "source": [
        "### **9. Select true statements regarding the Python tuple**\n",
        "    a) We can remove the item from tuple but we cannot update items of the tuple\n",
        "    b) We cannot delete the tuple\n",
        "    c) We cannot remove the items from the tuple\n",
        "    d) We cannot update items of the tuple.\n"
      ],
      "metadata": {
        "id": "bgijMHtqVYA9"
      }
    },
    {
      "cell_type": "markdown",
      "source": [
        "**Option C and D is correct**"
      ],
      "metadata": {
        "id": "9Y6LFfsjVwYK"
      }
    },
    {
      "cell_type": "code",
      "source": [],
      "metadata": {
        "id": "ShDnbi0dU-gO"
      },
      "execution_count": null,
      "outputs": []
    }
  ]
}