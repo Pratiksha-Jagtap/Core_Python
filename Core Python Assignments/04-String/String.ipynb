{
  "nbformat": 4,
  "nbformat_minor": 0,
  "metadata": {
    "colab": {
      "provenance": []
    },
    "kernelspec": {
      "name": "python3",
      "display_name": "Python 3"
    },
    "language_info": {
      "name": "python"
    }
  },
  "cells": [
    {
      "cell_type": "markdown",
      "source": [
        "## **1. Which method/inbuilt function should I use to convert String \"welcome to the beautiful world of python\" to \"Welcome To The Beautiful World Of Python\".**"
      ],
      "metadata": {
        "id": "XuLEYhXVynh1"
      }
    },
    {
      "cell_type": "code",
      "source": [
        "string = \"welcome to the beautiful world of python\"\n",
        "New_string = string.title()\n",
        "print(New_string)"
      ],
      "metadata": {
        "colab": {
          "base_uri": "https://localhost:8080/"
        },
        "id": "G-TzSNrIylop",
        "outputId": "fe32d587-5677-40b1-efbe-6a86803371d0"
      },
      "execution_count": null,
      "outputs": [
        {
          "output_type": "stream",
          "name": "stdout",
          "text": [
            "Welcome To The Beautiful World Of Python\n"
          ]
        }
      ]
    },
    {
      "cell_type": "markdown",
      "source": [
        "## **2. Split a given string on hyphens into several substrings**\n",
        "\n",
        "  **str1 = Emma-is-a-data-scientist**\n"
      ],
      "metadata": {
        "id": "r3kAOvUU1aso"
      }
    },
    {
      "cell_type": "code",
      "source": [
        "str1 = \"Emma-is-a-data-scientist\"\n",
        "new_str1 = str1.split(\"-\")\n",
        "print(new_str1)"
      ],
      "metadata": {
        "colab": {
          "base_uri": "https://localhost:8080/"
        },
        "id": "TMMjn63my2oL",
        "outputId": "c9919ff8-ebc6-46d7-f8f9-7c460582ec74"
      },
      "execution_count": null,
      "outputs": [
        {
          "output_type": "stream",
          "name": "stdout",
          "text": [
            "['Emma', 'is', 'a', 'data', 'scientist']\n"
          ]
        }
      ]
    },
    {
      "cell_type": "markdown",
      "source": [
        "## **3. Remove empty strings from a list of strings**\n",
        "\n",
        "        Original list of sting = ['Emma', 'Jon', '', 'Kelly', None, 'Eric', '']\n",
        "\n",
        "        After removing empty strings = ['Emma', 'Jon', 'Kelly', 'Eric']\n"
      ],
      "metadata": {
        "id": "b9-3PAsC2Jxs"
      }
    },
    {
      "cell_type": "code",
      "source": [
        "str_list = [\"Emma\", \"Jon\", \"\", \"Kelly\", None, \"Eric\", \"\"]\n",
        "print(\"Original list of sting\")\n",
        "\n",
        "new_string = list(filter(None, str_list))\n",
        "print(\"After removing empty strings\")\n",
        "print(new_string)"
      ],
      "metadata": {
        "colab": {
          "base_uri": "https://localhost:8080/"
        },
        "id": "dPdoaoK119l0",
        "outputId": "7fc13956-7d6c-4707-ecdd-cf6952e69251"
      },
      "execution_count": null,
      "outputs": [
        {
          "output_type": "stream",
          "name": "stdout",
          "text": [
            "Original list of sting\n",
            "After removing empty strings\n",
            "['Emma', 'Jon', 'Kelly', 'Eric']\n"
          ]
        }
      ]
    },
    {
      "cell_type": "markdown",
      "source": [
        "## **4. Create an string and execute the following inbuilt functions on it.**\n",
        "\n",
        "         - upper, lower, capitalize, split, join, isnumeric, isalpha, isdigit, count, isalnum.\n"
      ],
      "metadata": {
        "id": "KxgxzoUT3UHU"
      }
    },
    {
      "cell_type": "code",
      "source": [
        "# upper\n",
        "\n",
        "txt = \"this is upper inbuild function in python\"\n",
        "upper_func = txt.upper()\n",
        "print(upper_func)"
      ],
      "metadata": {
        "colab": {
          "base_uri": "https://localhost:8080/"
        },
        "id": "eylusCip2-Ep",
        "outputId": "f6998f00-ecb8-47cc-f6d3-ae55b0958b80"
      },
      "execution_count": null,
      "outputs": [
        {
          "output_type": "stream",
          "name": "stdout",
          "text": [
            "THIS IS UPPER INBUILD FUNCTION IN PYTHON\n"
          ]
        }
      ]
    },
    {
      "cell_type": "code",
      "source": [
        "# lower\n",
        "\n",
        "txt = \"THIS IS LOWER IN-BUILD FUNCTION\"\n",
        "upper_func = txt.lower()\n",
        "print(upper_func)"
      ],
      "metadata": {
        "colab": {
          "base_uri": "https://localhost:8080/"
        },
        "id": "nDBahbeb4RgX",
        "outputId": "18833af7-c234-4ada-b443-3826f1080bb9"
      },
      "execution_count": null,
      "outputs": [
        {
          "output_type": "stream",
          "name": "stdout",
          "text": [
            "this is lower in-build function\n"
          ]
        }
      ]
    },
    {
      "cell_type": "code",
      "source": [
        "# capitalize\n",
        "\n",
        "txt = \"hello, welcome to python programming\"\n",
        "cap = txt.capitalize()\n",
        "print(cap)"
      ],
      "metadata": {
        "colab": {
          "base_uri": "https://localhost:8080/"
        },
        "id": "ULXwuViY46kj",
        "outputId": "6634bb4c-f786-4101-e77b-47cc4bbf9048"
      },
      "execution_count": null,
      "outputs": [
        {
          "output_type": "stream",
          "name": "stdout",
          "text": [
            "Hello, welcome to python programming\n"
          ]
        }
      ]
    },
    {
      "cell_type": "code",
      "source": [
        "# split\n",
        "\n",
        "txt = \"This is Python Programming\"\n",
        "string = txt.split()\n",
        "print(txt)\n",
        "print(string)"
      ],
      "metadata": {
        "id": "r_Y-Iu5A5QtV",
        "colab": {
          "base_uri": "https://localhost:8080/"
        },
        "outputId": "521578f6-63e8-4325-cc5d-5002e6e781ae"
      },
      "execution_count": 1,
      "outputs": [
        {
          "output_type": "stream",
          "name": "stdout",
          "text": [
            "This is Python Programming\n",
            "['This', 'is', 'Python', 'Programming']\n"
          ]
        }
      ]
    },
    {
      "cell_type": "code",
      "source": [
        "# join\n",
        "\n",
        "my_txt = ('Pratiksha','Rajendra','Jagtap')\n",
        "join_func = \"#\".join(my_txt)\n",
        "print(my_txt)\n",
        "print(join_func)"
      ],
      "metadata": {
        "colab": {
          "base_uri": "https://localhost:8080/"
        },
        "id": "IjDPLsPfULra",
        "outputId": "1ae51560-3001-4b77-c756-294fe89f7481"
      },
      "execution_count": 2,
      "outputs": [
        {
          "output_type": "stream",
          "name": "stdout",
          "text": [
            "('Pratiksha', 'Rajendra', 'Jagtap')\n",
            "Pratiksha#Rajendra#Jagtap\n"
          ]
        }
      ]
    },
    {
      "cell_type": "code",
      "source": [
        "# isnumeric\n",
        "\n",
        "text1 = '562145'\n",
        "isnumeric_func1 = text1.isnumeric()\n",
        "print('Text1 is:- ',isnumeric_func1)\n",
        "\n",
        "\n",
        "text2 = 'Python'\n",
        "isnumeric_func2 = text2.isnumeric()\n",
        "print('Text2 is:- ',isnumeric_func2)"
      ],
      "metadata": {
        "colab": {
          "base_uri": "https://localhost:8080/"
        },
        "id": "NmL7gc1uU6cS",
        "outputId": "d11f553b-9915-459c-aec3-409349e20f7e"
      },
      "execution_count": 6,
      "outputs": [
        {
          "output_type": "stream",
          "name": "stdout",
          "text": [
            "Text1 is:-  True\n",
            "Text2 is:-  False\n"
          ]
        }
      ]
    },
    {
      "cell_type": "code",
      "source": [
        "# isalpha\n",
        "\n",
        "text1 = \"PythonProgramming\"\n",
        "isalpha_func1 = text1.isalpha()\n",
        "print('text1 is:- ',isalpha_func1)\n",
        "\n",
        "text2 = \"Python 3.2\"\n",
        "isalpha_func2 = text2.isalpha()\n",
        "print('text2 is:- ',isalpha_func2)"
      ],
      "metadata": {
        "colab": {
          "base_uri": "https://localhost:8080/"
        },
        "id": "_7ly5cyEVUSH",
        "outputId": "58b5f16d-fd93-418a-ac8b-f1ebe23d195f"
      },
      "execution_count": 9,
      "outputs": [
        {
          "output_type": "stream",
          "name": "stdout",
          "text": [
            "text1 is:-  True\n",
            "text2 is:-  False\n"
          ]
        }
      ]
    },
    {
      "cell_type": "code",
      "source": [
        "# isdigit\n",
        "\n",
        "txt1 = \"50800\"\n",
        "isdigit_func1= txt1.isdigit()\n",
        "print('Text1 is:- ',isdigit_func1)\n",
        "\n",
        "txt2 = \"Python\"\n",
        "isdigit_func2= txt2.isdigit()\n",
        "print('Text2 is:- ',isdigit_func2)"
      ],
      "metadata": {
        "colab": {
          "base_uri": "https://localhost:8080/"
        },
        "id": "jOAAviLkXHJQ",
        "outputId": "72408889-0919-4c2f-b9cf-ce1404ec1611"
      },
      "execution_count": 11,
      "outputs": [
        {
          "output_type": "stream",
          "name": "stdout",
          "text": [
            "Text1 is:-  True\n",
            "Text2 is:-  False\n"
          ]
        }
      ]
    },
    {
      "cell_type": "code",
      "source": [
        "# count\n",
        "\n",
        "txt = \"I love Python Programming, Python Programming is easy Language\"\n",
        "count_func = txt.count(\"Python\")\n",
        "print(count_func)"
      ],
      "metadata": {
        "colab": {
          "base_uri": "https://localhost:8080/"
        },
        "id": "jUa1hhodYJxm",
        "outputId": "906aee5a-9b76-498b-fbfd-f2b464d5df2c"
      },
      "execution_count": 12,
      "outputs": [
        {
          "output_type": "stream",
          "name": "stdout",
          "text": [
            "2\n"
          ]
        }
      ]
    },
    {
      "cell_type": "code",
      "source": [
        "# isalnum\n",
        "\n",
        "txt1 = \"Python3\"\n",
        "isalnum_func1 = txt1.isalnum()\n",
        "print('text1 is:- ',isalnum_func1)\n",
        "\n",
        "\n",
        "txt2 = \"Python Programming\"\n",
        "isalnum_func2 = txt2.isalnum()\n",
        "print('text2 is:- ',isalnum_func2)"
      ],
      "metadata": {
        "colab": {
          "base_uri": "https://localhost:8080/"
        },
        "id": "Q_otZc3BYy4u",
        "outputId": "d8cd4326-c928-4ffa-831a-6a09d06e27cc"
      },
      "execution_count": 18,
      "outputs": [
        {
          "output_type": "stream",
          "name": "stdout",
          "text": [
            "text1 is:-  True\n",
            "text2 is:-  False\n"
          ]
        }
      ]
    },
    {
      "cell_type": "markdown",
      "source": [
        "## **5. Guess the correct output of the following code?**\n",
        "\n",
        "       str1 = \"PYnative\"\n",
        "       print(str1[1:4], str1[:5], str1[4:], str1[0:-1], str1[:-1])\n"
      ],
      "metadata": {
        "id": "VuUrIuNZZxJn"
      }
    },
    {
      "cell_type": "code",
      "source": [
        "str1 = \"PYnative\"\n",
        "print(str1[1:4], str1[:5], str1[4:], str1[0:-1], str1[:-1])"
      ],
      "metadata": {
        "colab": {
          "base_uri": "https://localhost:8080/"
        },
        "id": "1l1h66ZJZWKG",
        "outputId": "c533e98a-505c-4881-85fe-85d38705f499"
      },
      "execution_count": 19,
      "outputs": [
        {
          "output_type": "stream",
          "name": "stdout",
          "text": [
            "Yna PYnat tive PYnativ PYnativ\n"
          ]
        }
      ]
    },
    {
      "cell_type": "markdown",
      "source": [
        "## **6. write the correct output of the following String operations**\n",
        "\n",
        "        str1 = 'Welcome'\n",
        "        print(str1*2)\n"
      ],
      "metadata": {
        "id": "ClRnJvNcaEZ0"
      }
    },
    {
      "cell_type": "code",
      "source": [
        "str1 = 'Welcome'\n",
        "print(str1*2)"
      ],
      "metadata": {
        "colab": {
          "base_uri": "https://localhost:8080/"
        },
        "id": "69dfjGjHaA0V",
        "outputId": "27ac7fd4-6f1c-4c76-c7ec-4e7b8168fb37"
      },
      "execution_count": 20,
      "outputs": [
        {
          "output_type": "stream",
          "name": "stdout",
          "text": [
            "WelcomeWelcome\n"
          ]
        }
      ]
    },
    {
      "cell_type": "markdown",
      "source": [
        "## **7. Find all occurrences of “USA” in given string ignoring the case**\n",
        "    str1 = \"Welcome to USA. usa awesome, isn't it?\n"
      ],
      "metadata": {
        "id": "M5ljd_4YaQ-V"
      }
    },
    {
      "cell_type": "code",
      "source": [
        "str1 = \"Welcome to USA. usa awesome, isn't it?\"\n",
        "print(str1.lower().count('usa'))"
      ],
      "metadata": {
        "colab": {
          "base_uri": "https://localhost:8080/"
        },
        "id": "LF2PsB8SaNLc",
        "outputId": "2889e5db-2b35-446c-ad31-8a705444e20a"
      },
      "execution_count": 21,
      "outputs": [
        {
          "output_type": "stream",
          "name": "stdout",
          "text": [
            "2\n"
          ]
        }
      ]
    },
    {
      "cell_type": "code",
      "source": [],
      "metadata": {
        "id": "S1KNvqg6atmp"
      },
      "execution_count": null,
      "outputs": []
    }
  ]
}