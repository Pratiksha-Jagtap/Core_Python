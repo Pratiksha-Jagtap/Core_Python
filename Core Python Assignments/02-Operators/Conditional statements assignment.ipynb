{
 "cells": [
  {
   "cell_type": "markdown",
   "id": "bc5fab06",
   "metadata": {},
   "source": [
    "1) What is the output of following if statement?"
   ]
  },
  {
   "cell_type": "code",
   "execution_count": 2,
   "id": "9ad6e927",
   "metadata": {},
   "outputs": [
    {
     "name": "stdout",
     "output_type": "stream",
     "text": [
      "True\n"
     ]
    }
   ],
   "source": [
    "a,b = 12,5\n",
    "if a + b:\n",
    "    print('True')\n",
    "else:\n",
    "    print('False')"
   ]
  },
  {
   "cell_type": "markdown",
   "id": "954e4aab",
   "metadata": {},
   "source": [
    "2. Given the nested if-else structure below, what will be the value of x after code execution completes"
   ]
  },
  {
   "cell_type": "code",
   "execution_count": 3,
   "id": "3fe66899",
   "metadata": {},
   "outputs": [
    {
     "name": "stdout",
     "output_type": "stream",
     "text": [
      "2\n"
     ]
    }
   ],
   "source": [
    "x = 0\n",
    "a = 0\n",
    "b = -5\n",
    "if a > 0:\n",
    "    if b < 0: \n",
    "        x = x + 5 \n",
    "    elif a > 5:\n",
    "        x = x + 4\n",
    "    else:\n",
    "        x = x + 3\n",
    "else:\n",
    "    x = x + 2\n",
    "print(x)"
   ]
  },
  {
   "cell_type": "markdown",
   "id": "93ba3b06",
   "metadata": {},
   "source": [
    "3. Given the nested if-else below, what will be the value x when the code executed successfully"
   ]
  },
  {
   "cell_type": "code",
   "execution_count": 4,
   "id": "4364d017",
   "metadata": {},
   "outputs": [
    {
     "name": "stdout",
     "output_type": "stream",
     "text": [
      "3\n"
     ]
    }
   ],
   "source": [
    "x = 0\n",
    "a = 5\n",
    "b = 5\n",
    "if a > 0:\n",
    "    if b < 0: \n",
    "        x = x + 5 \n",
    "    elif a > 5:\n",
    "        x = x + 4\n",
    "    else:\n",
    "        x = x + 3\n",
    "else:\n",
    "    x = x + 2\n",
    "print(x)\n"
   ]
  },
  {
   "cell_type": "markdown",
   "id": "0da47996",
   "metadata": {},
   "source": [
    "4. A school has following rules for grading system:\n",
    "\n",
    "    a. Below 25 - F\n",
    "    \n",
    "    b. 25 to 45 - E\n",
    "    \n",
    "    c. 45 to 50 - D\n",
    "    \n",
    "    d. 50 to 60 - C\n",
    "    \n",
    "    e. 60 to 80 - B\n",
    "    \n",
    "    f. Above 80 - A\n",
    "    \n",
    "    Ask user to enter marks and print the corresponding grade.\n"
   ]
  },
  {
   "cell_type": "code",
   "execution_count": 5,
   "id": "34f8ca03",
   "metadata": {},
   "outputs": [
    {
     "name": "stdout",
     "output_type": "stream",
     "text": [
      "Enter Marks:- 75\n",
      "Grade 'B'\n"
     ]
    }
   ],
   "source": [
    "marks = int(input('Enter Marks:- '))\n",
    "\n",
    "if(marks < 25):\n",
    "    print(\"Grade 'F'\")\n",
    "    \n",
    "elif(marks >= 25 and marks < 45):\n",
    "    print(\"Grade 'E'\")\n",
    "    \n",
    "elif(marks >= 45 and marks < 50):\n",
    "    print(\"Grade 'D'\")\n",
    "    \n",
    "elif(marks >= 50 and marks < 60):\n",
    "    print(\"Grade 'C'\")\n",
    "    \n",
    "elif(marks >= 60 and marks < 80):\n",
    "    print(\"Grade 'B'\")\n",
    "    \n",
    "else:\n",
    "    print(\"Grade 'A'\")"
   ]
  },
  {
   "cell_type": "markdown",
   "id": "2cab56d1",
   "metadata": {},
   "source": [
    "5. A shop will give discount of 10% if the cost of purchased quantity is more than 1000.\n",
    "    \n",
    "    Ask user for quantity\n",
    "    \n",
    "    Suppose, one unit will cost 100.\n",
    "    \n",
    "    Judge and print total cost for user.\n"
   ]
  },
  {
   "cell_type": "code",
   "execution_count": 6,
   "id": "38ee30ec",
   "metadata": {},
   "outputs": [
    {
     "name": "stdout",
     "output_type": "stream",
     "text": [
      "Enter Quantity of Products:-15\n",
      "Your Product's Quantity is  15\n",
      "CONGRATS ! \n",
      " \t  You got discount of 10% on purchasing of : 1500\n",
      "\t Your discount is  150.0\n",
      "\t You have to pay only  1350.0\n"
     ]
    }
   ],
   "source": [
    "a=int(input('Enter Quantity of Products:-'))\n",
    "print(\"Your Product's Quantity is \", a)\n",
    "b=(a*100)\n",
    "if b >=1000:\n",
    "    print('CONGRATS ! \\n \\t  You got discount of 10% on purchasing of :', b)\n",
    "    c=b*(10/100)\n",
    "    print (\"\\t Your discount is \",c)\n",
    "    d=b-c\n",
    "    print('\\t You have to pay only ',d)\n",
    "else:\n",
    "    print(\"You have to pay : \",b)\n",
    "    print('\\n \\t \"Buy some more to get 10 % discount on purchasing of quantity 10 or more. ', \"\\n \\t \\\"Happy Shopping\\\" \")\n"
   ]
  },
  {
   "cell_type": "markdown",
   "id": "4e960c37",
   "metadata": {},
   "source": [
    "6. Write a program to print absolute value of a number entered by user. E.g.-\n",
    "\n",
    "    INPUT: 1        OUTPUT: 1\n",
    "    \n",
    "    INPUT: -1        OUTPUT: 1\n"
   ]
  },
  {
   "cell_type": "code",
   "execution_count": 7,
   "id": "7ca67b37",
   "metadata": {},
   "outputs": [
    {
     "name": "stdout",
     "output_type": "stream",
     "text": [
      "Enter Number:- -15\n",
      "-15 15\n"
     ]
    }
   ],
   "source": [
    "number = int(input('Enter Number:- '))\n",
    "if (number<0):\n",
    "    print(number, number * -1)\n",
    "else:\n",
    "    print(number)"
   ]
  },
  {
   "cell_type": "markdown",
   "id": "d3909a8f",
   "metadata": {},
   "source": [
    "7. Write a Python program that accepts a string and calculate the number of digits and letters.\n",
    "\n",
    "    Sample Data : Python 3.2\n",
    "    \n",
    "    Expected Output :\n",
    "    \n",
    "    Letters 6\n",
    "    \n",
    "    Digits 2\n"
   ]
  },
  {
   "cell_type": "code",
   "execution_count": 11,
   "id": "b00c6eb1",
   "metadata": {},
   "outputs": [
    {
     "name": "stdout",
     "output_type": "stream",
     "text": [
      "Enter String:- Python32\n",
      "Digits:-  2\n",
      "Letters:-  6\n"
     ]
    }
   ],
   "source": [
    "alpha = 0\n",
    "string = input('Enter String:- ')\n",
    "for i in string:\n",
    "    if(i.isalpha()):   # isalpha() is build-in method use to identify alphabets\n",
    "        alpha+=1\n",
    "        \n",
    "print('Digits:- ',len(string)-alpha)\n",
    "print('Letters:- ', alpha)"
   ]
  },
  {
   "cell_type": "markdown",
   "id": "d6f2376b",
   "metadata": {},
   "source": [
    "8. Write a Python program to check whether an alphabet is a vowel or consonant. \n",
    "   \n",
    "   Expected Output:\n",
    "   \n",
    "   Input a letter of the alphabet: k                                       \n",
    "    \n",
    "    k is a consonant.\n"
   ]
  },
  {
   "cell_type": "code",
   "execution_count": 21,
   "id": "9bdf6bf5",
   "metadata": {},
   "outputs": [
    {
     "name": "stdout",
     "output_type": "stream",
     "text": [
      "Enter Alphabet:- k\n",
      "The Character 'k' is Constant\n"
     ]
    }
   ],
   "source": [
    "char = input('Enter Alphabet:- ')\n",
    "vowels = ['a','e','i','o','u']\n",
    "\n",
    "if char in vowels:\n",
    "    print(f\"The Character '{char}' is Vowel\")\n",
    "else:\n",
    "    print(f\"The Character '{char}' is Constant\")"
   ]
  },
  {
   "cell_type": "markdown",
   "id": "90f7b311",
   "metadata": {},
   "source": [
    "9. Write a Python program to check a triangle is equilateral, isosceles or scalene. Go to the editor\n",
    "    \n",
    "    Note :\n",
    "    \n",
    "    An equilateral triangle is a triangle in which all three sides are equal.\n",
    "    \n",
    "    A scalene triangle is a triangle that has three unequal sides.\n",
    "    \n",
    "    An isosceles triangle is a triangle with (at least) two equal sides.\n",
    "    \n",
    "    Expected Output:\n",
    "    \n",
    "    Input lengths of the triangle sides:                                    \n",
    "    \n",
    "    x: 6                                                                    \n",
    "    \n",
    "    y: 8                                                                    \n",
    "    \n",
    "    z: 12                                                                   \n",
    "    \n",
    "    Scalene triangle \n"
   ]
  },
  {
   "cell_type": "code",
   "execution_count": 22,
   "id": "be29e328",
   "metadata": {},
   "outputs": [
    {
     "name": "stdout",
     "output_type": "stream",
     "text": [
      "*Insert Length of Triangle Sides*\n",
      "x:- 6\n",
      "y:- 8\n",
      "z:- 12\n",
      "Scalene Triangle\n"
     ]
    }
   ],
   "source": [
    "print('*Insert Length of Triangle Sides*')\n",
    "\n",
    "x = int(input(\"x:- \"))\n",
    "y = int(input(\"y:- \"))\n",
    "z = int(input(\"z:- \"))\n",
    "\n",
    "if x == y == z:\n",
    "    print('Equilateral Triangle')\n",
    "\n",
    "elif x == y or y == z or z == x:\n",
    "    print('Isosceles Triangle')\n",
    "    \n",
    "else:\n",
    "    print('Scalene Triangle')"
   ]
  },
  {
   "cell_type": "markdown",
   "id": "fec8e400",
   "metadata": {},
   "source": [
    "10. Write an If elif else condition for finding the largest number in 3 numbers."
   ]
  },
  {
   "cell_type": "code",
   "execution_count": 24,
   "id": "99f5b7a8",
   "metadata": {},
   "outputs": [
    {
     "name": "stdout",
     "output_type": "stream",
     "text": [
      "*Enter Three Numbers*\n",
      "a:- 15\n",
      "b:- 2\n",
      "c:- 3\n",
      "a is greater\n"
     ]
    }
   ],
   "source": [
    "print('*Enter Three Numbers*')\n",
    "\n",
    "a = int(input('a:- '))\n",
    "b = int(input('b:- '))\n",
    "c = int(input('c:- '))\n",
    "\n",
    "if a > b and a > c:\n",
    "    print('a is greater')\n",
    "    \n",
    "elif b > a and b > c:\n",
    "    print('b is greater')\n",
    "    \n",
    "else:\n",
    "    print('c is greater')"
   ]
  },
  {
   "cell_type": "code",
   "execution_count": null,
   "id": "855c12bb",
   "metadata": {},
   "outputs": [],
   "source": []
  }
 ],
 "metadata": {
  "kernelspec": {
   "display_name": "Python 3 (ipykernel)",
   "language": "python",
   "name": "python3"
  },
  "language_info": {
   "codemirror_mode": {
    "name": "ipython",
    "version": 3
   },
   "file_extension": ".py",
   "mimetype": "text/x-python",
   "name": "python",
   "nbconvert_exporter": "python",
   "pygments_lexer": "ipython3",
   "version": "3.11.5"
  }
 },
 "nbformat": 4,
 "nbformat_minor": 5
}
