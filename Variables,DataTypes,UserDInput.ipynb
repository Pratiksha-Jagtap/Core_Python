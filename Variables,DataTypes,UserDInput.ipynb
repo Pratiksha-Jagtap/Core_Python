{
 "cells": [
  {
   "cell_type": "markdown",
   "id": "6da6bb5b",
   "metadata": {},
   "source": [
    "### * **Simple Print Statements**"
   ]
  },
  {
   "cell_type": "code",
   "execution_count": 2,
   "id": "8f49d1f4",
   "metadata": {},
   "outputs": [
    {
     "name": "stdout",
     "output_type": "stream",
     "text": [
      "This is Pratiksha\n",
      "I'm from Nashik\n"
     ]
    }
   ],
   "source": [
    "# you can use ' ' as well as \" \" to print the statement\n",
    "print('This is Pratiksha')\n",
    "print(\"I'm from Nashik\")"
   ]
  },
  {
   "cell_type": "code",
   "execution_count": 3,
   "id": "0101c4b0",
   "metadata": {},
   "outputs": [
    {
     "name": "stdout",
     "output_type": "stream",
     "text": [
      "My Name is Pratiksha, \n",
      "I am from Nashik\n"
     ]
    }
   ],
   "source": [
    "print('My Name is Pratiksha, \\nI am from Nashik')\n",
    "\n",
    "'''\n",
    "here we use '\\n' for printing the other half statement on the new line\n",
    "\\n stands for new line\n",
    "'''"
   ]
  },
  {
   "cell_type": "code",
   "execution_count": 5,
   "id": "ec865bbd",
   "metadata": {},
   "outputs": [
    {
     "name": "stdout",
     "output_type": "stream",
     "text": [
      "11\n",
      "8\n",
      "5.0\n",
      "8\n"
     ]
    }
   ],
   "source": [
    "# we can also perform Mathematical operations withing the print statement as follows:\n",
    "\n",
    "print(5+6)\n",
    "print(10-2)\n",
    "print(10/2)\n",
    "print(2*4)"
   ]
  },
  {
   "cell_type": "code",
   "execution_count": 6,
   "id": "bf0006ad",
   "metadata": {},
   "outputs": [
    {
     "data": {
      "text/plain": [
       "14"
      ]
     },
     "execution_count": 6,
     "metadata": {},
     "output_type": "execute_result"
    }
   ],
   "source": [
    "# we can perform mathematical operations directly without using any variable\n",
    "\n",
    "12+2"
   ]
  },
  {
   "cell_type": "code",
   "execution_count": 7,
   "id": "c8350caa",
   "metadata": {},
   "outputs": [
    {
     "data": {
      "text/plain": [
       "8.0"
      ]
     },
     "execution_count": 7,
     "metadata": {},
     "output_type": "execute_result"
    }
   ],
   "source": [
    "16/2"
   ]
  },
  {
   "cell_type": "markdown",
   "id": "d206dfac",
   "metadata": {},
   "source": [
    "### * **Assigning Values to variable**\n",
    "\n",
    "variables are nothing but the containers that contains or hold the values that we are assigning to them."
   ]
  },
  {
   "cell_type": "code",
   "execution_count": 9,
   "id": "93d8beec",
   "metadata": {},
   "outputs": [
    {
     "name": "stdout",
     "output_type": "stream",
     "text": [
      "10\n"
     ]
    }
   ],
   "source": [
    "a = 10\n",
    "print(a)\n",
    "\n",
    "#here a is nothing but the variable that contains the value 10\n",
    "#and we simply print the variable so the output will be 10\n"
   ]
  },
  {
   "cell_type": "code",
   "execution_count": 10,
   "id": "b82499ca",
   "metadata": {},
   "outputs": [
    {
     "name": "stdout",
     "output_type": "stream",
     "text": [
      "1\n",
      "1\n",
      "1\n"
     ]
    }
   ],
   "source": [
    "# Multiple Assignment 1\n",
    "\n",
    "a = b = c = 1 # here I assign single value to 3 different variables\n",
    "print(a)\n",
    "print(b)\n",
    "print(c)"
   ]
  },
  {
   "cell_type": "code",
   "execution_count": 12,
   "id": "46c7b2c7",
   "metadata": {},
   "outputs": [
    {
     "name": "stdout",
     "output_type": "stream",
     "text": [
      "1 2 3\n",
      "1\n",
      "2\n",
      "3\n"
     ]
    }
   ],
   "source": [
    "# multiple assignment 2\n",
    "\n",
    "a,b,c = 1,2,3\n",
    "print(a,b,c) # you can print it together as well\n",
    "print(a)\n",
    "print(b)     # you can print seperate as well\n",
    "print(c)"
   ]
  },
  {
   "cell_type": "markdown",
   "id": "1afed84f",
   "metadata": {},
   "source": [
    "**Rules for Variable Declaration**"
   ]
  },
  {
   "cell_type": "code",
   "execution_count": 1,
   "id": "6fed6943",
   "metadata": {},
   "outputs": [
    {
     "name": "stdout",
     "output_type": "stream",
     "text": [
      "10\n"
     ]
    }
   ],
   "source": [
    "# 1) variable name can't starts with numbers\n",
    "\n",
    "'''\n",
    "9Name = 10\n",
    "print(9Name)\n",
    "'''\n",
    "\n",
    "Name9 = 10\n",
    "print(Name9)"
   ]
  },
  {
   "cell_type": "code",
   "execution_count": 2,
   "id": "e4650e26",
   "metadata": {},
   "outputs": [
    {
     "name": "stdout",
     "output_type": "stream",
     "text": [
      "15\n"
     ]
    }
   ],
   "source": [
    "# 2) Python is case sensitive\n",
    "\n",
    "'''\n",
    "Age9 = 10\n",
    "print(age9)\n",
    "'''\n",
    "\n",
    "age9 = 15\n",
    "print(age9)"
   ]
  },
  {
   "cell_type": "code",
   "execution_count": 3,
   "id": "f63f728a",
   "metadata": {},
   "outputs": [
    {
     "name": "stdout",
     "output_type": "stream",
     "text": [
      "10\n"
     ]
    }
   ],
   "source": [
    "# 3) spaces are not allowed\n",
    "\n",
    "'''\n",
    "age 9 = 10\n",
    "print(age 9)\n",
    "'''\n",
    "\n",
    "age9 = 10\n",
    "print(age9)"
   ]
  },
  {
   "cell_type": "code",
   "execution_count": 5,
   "id": "202501df",
   "metadata": {},
   "outputs": [
    {
     "name": "stdout",
     "output_type": "stream",
     "text": [
      "10\n"
     ]
    }
   ],
   "source": [
    "# 4) spacial characters are not allowed only _ is allowed\n",
    "\n",
    "_age_9 = 10\n",
    "print(_age_9)"
   ]
  },
  {
   "cell_type": "markdown",
   "id": "cb6a370a",
   "metadata": {},
   "source": [
    "### * **Data Types in Python**\n",
    "\n",
    "Data Types are the classification and Categorization of Data Items."
   ]
  },
  {
   "cell_type": "code",
   "execution_count": 17,
   "id": "b756183d",
   "metadata": {},
   "outputs": [
    {
     "name": "stdout",
     "output_type": "stream",
     "text": [
      "Apple\n",
      "<class 'str'>\n",
      "10\n",
      "<class 'int'>\n",
      "10.5\n",
      "<class 'float'>\n",
      "True\n",
      "<class 'bool'>\n"
     ]
    }
   ],
   "source": [
    "# String\n",
    "\n",
    "a = 'Apple'\n",
    "print(a)\n",
    "print(type(a)) #str\n",
    "\n",
    "\n",
    "\n",
    "# integer\n",
    "\n",
    "b = 10\n",
    "print(b)\n",
    "print(type(b)) # int\n",
    "\n",
    "\n",
    "# float\n",
    "\n",
    "c = 10.5\n",
    "print(c)\n",
    "print(type(c)) # float\n",
    "\n",
    "# Boolean\n",
    "\n",
    "d = 10\n",
    "e = 10\n",
    "f = (d == e)\n",
    "print(f)     # return true\n",
    "print(type(f)) # bool\n",
    "\n",
    "\n",
    "# complex\n",
    "\n",
    "a = 2+3j # 2 is real number and 3j is imaginary\n",
    "print(a)\n",
    "print(type(a)) # complex"
   ]
  },
  {
   "cell_type": "markdown",
   "id": "571cf6b1",
   "metadata": {},
   "source": [
    "### **Type Conversion**\n",
    "\n",
    "Type Conversion is the conversion of object from one data type to another data type.\n"
   ]
  },
  {
   "cell_type": "markdown",
   "id": "b2c4499c",
   "metadata": {},
   "source": [
    "* Implicit Type Conversion\n",
    "\n",
    "Implicit type conversion automatically converts one data type to another data type without user involvement"
   ]
  },
  {
   "cell_type": "code",
   "execution_count": 24,
   "id": "ae64a591",
   "metadata": {},
   "outputs": [
    {
     "name": "stdout",
     "output_type": "stream",
     "text": [
      "22.8\n"
     ]
    }
   ],
   "source": [
    "k=10\n",
    "b=12.8\n",
    "print(k+b)"
   ]
  },
  {
   "cell_type": "markdown",
   "id": "d99f8f36",
   "metadata": {},
   "source": [
    "* Explicit Type Conversion\n",
    "\n",
    "Explicit type conversion/typecasting converts one data type to another data type using predefined functions like int(), float(), str(), etc.\n"
   ]
  },
  {
   "cell_type": "code",
   "execution_count": 26,
   "id": "3d1ae6ad",
   "metadata": {},
   "outputs": [
    {
     "name": "stdout",
     "output_type": "stream",
     "text": [
      "<class 'str'>\n",
      "22.8\n",
      "<class 'int'>\n"
     ]
    }
   ],
   "source": [
    "k=\"10\"\n",
    "print(type(k))\n",
    "k1=int(k)\n",
    "b=12.8\n",
    "print(k1+b)\n",
    "print(type(k1))"
   ]
  },
  {
   "cell_type": "code",
   "execution_count": 32,
   "id": "7b7775ae",
   "metadata": {},
   "outputs": [
    {
     "name": "stdout",
     "output_type": "stream",
     "text": [
      "<class 'str'>\n",
      "22\n",
      "<class 'int'>\n"
     ]
    }
   ],
   "source": [
    "k=\"10\"\n",
    "print(type(k))\n",
    "k1=int(k)\n",
    "b=12.8\n",
    "c = k1 + b\n",
    "d = int(c)\n",
    "print(d)\n",
    "print(type(k1))"
   ]
  },
  {
   "cell_type": "code",
   "execution_count": 33,
   "id": "b6736dc4",
   "metadata": {},
   "outputs": [
    {
     "name": "stdout",
     "output_type": "stream",
     "text": [
      "1012.8\n"
     ]
    }
   ],
   "source": [
    "k=\"10\"\n",
    "b=12.8\n",
    "b1=str(b)\n",
    "print(k+b1)"
   ]
  },
  {
   "cell_type": "code",
   "execution_count": 34,
   "id": "d6ed709c",
   "metadata": {},
   "outputs": [
    {
     "name": "stdout",
     "output_type": "stream",
     "text": [
      "24\n"
     ]
    }
   ],
   "source": [
    "print(12*2)"
   ]
  },
  {
   "cell_type": "code",
   "execution_count": 35,
   "id": "27f0ff73",
   "metadata": {},
   "outputs": [
    {
     "name": "stdout",
     "output_type": "stream",
     "text": [
      "India India India \n"
     ]
    }
   ],
   "source": [
    "print(\"India \"*3)"
   ]
  },
  {
   "cell_type": "code",
   "execution_count": 39,
   "id": "adeaaa9c",
   "metadata": {},
   "outputs": [
    {
     "name": "stdout",
     "output_type": "stream",
     "text": [
      "I am Pratiksha Jagtap.\n",
      "I am from Nashik.\n",
      "I love my country\n"
     ]
    }
   ],
   "source": [
    "#New Line (\\n)\n",
    "\n",
    "print(\"I am Pratiksha Jagtap.\\nI am from Nashik.\\nI love my country\")"
   ]
  },
  {
   "cell_type": "code",
   "execution_count": 41,
   "id": "03b050e6",
   "metadata": {},
   "outputs": [
    {
     "name": "stdout",
     "output_type": "stream",
     "text": [
      "I am Pratiksha Jagtap.\tI am from Mumbai.\tI love my country\n"
     ]
    }
   ],
   "source": [
    "# \\t is use for spaces, by default it has 4 spaces , and use for indentation\n",
    "\n",
    "print(\"I am Pratiksha Jagtap.\\tI am from Nashik.\\tI love my country\")"
   ]
  },
  {
   "cell_type": "markdown",
   "id": "847b2028",
   "metadata": {},
   "source": [
    "###  User Defined Input"
   ]
  },
  {
   "cell_type": "code",
   "execution_count": 42,
   "id": "112e34c5",
   "metadata": {},
   "outputs": [
    {
     "name": "stdout",
     "output_type": "stream",
     "text": [
      "Enter your grade:- 25\n",
      "25\n"
     ]
    }
   ],
   "source": [
    "grade=int(input(\"Enter your grade:- \"))\n",
    "print(grade)"
   ]
  },
  {
   "cell_type": "code",
   "execution_count": 43,
   "id": "4fc9f20a",
   "metadata": {},
   "outputs": [
    {
     "name": "stdout",
     "output_type": "stream",
     "text": [
      "Enter your grade:- 12.5\n",
      "MY grade is 12.5\n"
     ]
    }
   ],
   "source": [
    "grade=float(input(\"Enter your grade:- \"))\n",
    "print(\"MY grade is\",grade)"
   ]
  },
  {
   "cell_type": "code",
   "execution_count": 44,
   "id": "b090b5d1",
   "metadata": {},
   "outputs": [
    {
     "name": "stdout",
     "output_type": "stream",
     "text": [
      "Enter Your Favorite Color: Black\n",
      "Your Favorite Color is  Black\n"
     ]
    }
   ],
   "source": [
    "Fav = input('Enter Your Favorite Color: ')\n",
    "print('Your Favorite Color is ',Fav)"
   ]
  },
  {
   "cell_type": "code",
   "execution_count": null,
   "id": "4678c3e2",
   "metadata": {},
   "outputs": [],
   "source": []
  }
 ],
 "metadata": {
  "kernelspec": {
   "display_name": "Python 3 (ipykernel)",
   "language": "python",
   "name": "python3"
  },
  "language_info": {
   "codemirror_mode": {
    "name": "ipython",
    "version": 3
   },
   "file_extension": ".py",
   "mimetype": "text/x-python",
   "name": "python",
   "nbconvert_exporter": "python",
   "pygments_lexer": "ipython3",
   "version": "3.11.5"
  }
 },
 "nbformat": 4,
 "nbformat_minor": 5
}
